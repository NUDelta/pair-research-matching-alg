{
 "cells": [
  {
   "cell_type": "markdown",
   "metadata": {},
   "source": [
    "# Stable Roommates Matching Test Cases\n",
    "This notebook contains a variety of test cases from (1) Irving's paper, (2) Wikipedia, (3) external implementations, and (4) any other custom cases for the [Stable Roomates Matching](http://www.dcs.gla.ac.uk/~pat/jchoco/roommates/papers/Comp_sdarticle.pdf) algorithm."
   ]
  },
  {
   "cell_type": "markdown",
   "metadata": {},
   "source": [
    "## Load in Libraries and Stable Roommates Matching Module"
   ]
  },
  {
   "cell_type": "code",
   "execution_count": 1,
   "metadata": {},
   "outputs": [],
   "source": [
    "%load_ext autoreload\n",
    "%autoreload 2\n",
    "\n",
    "import json\n",
    "from copy import deepcopy\n",
    "\n",
    "# load stable roommates code\n",
    "import os, sys\n",
    "module_path = os.path.abspath(os.path.join('..'))\n",
    "if module_path not in sys.path:\n",
    "    sys.path.append(module_path)\n",
    "\n",
    "from stable_roommates import stable_matching_wrapper as sr_matching\n",
    "from pair_research import *"
   ]
  },
  {
   "cell_type": "markdown",
   "metadata": {},
   "source": [
    "## Test Case from Irving's Paper"
   ]
  },
  {
   "cell_type": "code",
   "execution_count": 2,
   "metadata": {},
   "outputs": [],
   "source": [
    "paper_matching_6 = [\n",
    "    [4, 6, 2, 5, 3],\n",
    "    [6, 3, 5, 1, 4],\n",
    "    [4, 5, 1, 6, 2],\n",
    "    [2, 6, 5, 1, 3],\n",
    "    [4, 2, 3, 6, 1],\n",
    "    [5, 1, 4, 2, 3]\n",
    "]\n",
    "\n",
    "paper_matching_8 = [\n",
    "    [2, 5, 4, 6, 7, 8, 3],\n",
    "    [3, 6, 1, 7, 8, 5, 4],\n",
    "    [4, 7, 2, 8, 5, 6, 1],\n",
    "    [1, 8, 3, 5, 6, 7, 2],\n",
    "    [6, 1, 8, 2, 3, 4, 7],\n",
    "    [7, 2, 5, 3, 4, 1, 8],\n",
    "    [8, 3, 6, 4, 1, 2, 5],\n",
    "    [5, 4, 7, 1, 2, 3, 6]\n",
    "]\n",
    "\n",
    "paper_no_matching_4 = [\n",
    "    [2, 3, 4],\n",
    "    [3, 1, 4],\n",
    "    [1, 2, 4],\n",
    "    [1, 2, 3]\n",
    "]\n",
    "\n",
    "paper_no_matching_6 = [\n",
    "    [2, 6, 4, 3, 5],\n",
    "    [3, 5, 1, 6, 4],\n",
    "    [1, 6, 2, 5, 4],\n",
    "    [5, 2, 3, 6, 1],\n",
    "    [6, 1, 3, 4, 2],\n",
    "    [4, 2, 5, 1, 3]\n",
    "]"
   ]
  },
  {
   "cell_type": "code",
   "execution_count": 3,
   "metadata": {},
   "outputs": [
    {
     "name": "stdout",
     "output_type": "stream",
     "text": [
      "Input validation passed.\n",
      "Preference Dict: {'1': ['4', '6', '2', '5', '3'], '2': ['6', '3', '5', '1', '4'], '3': ['4', '5', '1', '6', '2'], '4': ['2', '6', '5', '1', '3'], '5': ['4', '2', '3', '6', '1'], '6': ['5', '1', '4', '2', '3']}\n",
      "Ranks Dict: {'1': {'4': 0, '6': 1, '2': 2, '5': 3, '3': 4}, '2': {'6': 0, '3': 1, '5': 2, '1': 3, '4': 4}, '3': {'4': 0, '5': 1, '1': 2, '6': 3, '2': 4}, '4': {'2': 0, '6': 1, '5': 2, '1': 3, '3': 4}, '5': {'4': 0, '2': 1, '3': 2, '6': 3, '1': 4}, '6': {'5': 0, '1': 1, '4': 2, '2': 3, '3': 4}}\n",
      "Stable matching found. Returning person : partner dictionary.\n",
      "{'1': '6', '2': '3', '3': '2', '4': '5', '5': '4', '6': '1'}\n"
     ]
    },
    {
     "data": {
      "text/plain": [
       "([5, 2, 1, 4, 3, 0], True, 'Stable matching found after Phase 2.')"
      ]
     },
     "execution_count": 3,
     "metadata": {},
     "output_type": "execute_result"
    }
   ],
   "source": [
    "sr_matching(paper_matching_6, handle_odd_method='remove', debug=True)"
   ]
  },
  {
   "cell_type": "code",
   "execution_count": 4,
   "metadata": {},
   "outputs": [
    {
     "name": "stdout",
     "output_type": "stream",
     "text": [
      "Input validation passed.\n",
      "Preference Dict: {'1': ['2', '5', '4', '6', '7', '8', '3'], '2': ['3', '6', '1', '7', '8', '5', '4'], '3': ['4', '7', '2', '8', '5', '6', '1'], '4': ['1', '8', '3', '5', '6', '7', '2'], '5': ['6', '1', '8', '2', '3', '4', '7'], '6': ['7', '2', '5', '3', '4', '1', '8'], '7': ['8', '3', '6', '4', '1', '2', '5'], '8': ['5', '4', '7', '1', '2', '3', '6']}\n",
      "Ranks Dict: {'1': {'2': 0, '5': 1, '4': 2, '6': 3, '7': 4, '8': 5, '3': 6}, '2': {'3': 0, '6': 1, '1': 2, '7': 3, '8': 4, '5': 5, '4': 6}, '3': {'4': 0, '7': 1, '2': 2, '8': 3, '5': 4, '6': 5, '1': 6}, '4': {'1': 0, '8': 1, '3': 2, '5': 3, '6': 4, '7': 5, '2': 6}, '5': {'6': 0, '1': 1, '8': 2, '2': 3, '3': 4, '4': 5, '7': 6}, '6': {'7': 0, '2': 1, '5': 2, '3': 3, '4': 4, '1': 5, '8': 6}, '7': {'8': 0, '3': 1, '6': 2, '4': 3, '1': 4, '2': 5, '5': 6}, '8': {'5': 0, '4': 1, '7': 2, '1': 3, '2': 4, '3': 5, '6': 6}}\n",
      "Stable matching found. Returning person : partner dictionary.\n",
      "{'1': '4', '2': '3', '3': '2', '4': '1', '5': '6', '6': '5', '7': '8', '8': '7'}\n"
     ]
    },
    {
     "data": {
      "text/plain": [
       "([3, 2, 1, 0, 5, 4, 7, 6], True, 'Stable matching found after Phase 2.')"
      ]
     },
     "execution_count": 4,
     "metadata": {},
     "output_type": "execute_result"
    }
   ],
   "source": [
    "sr_matching(paper_matching_8, handle_odd_method='remove', debug=True)"
   ]
  },
  {
   "cell_type": "code",
   "execution_count": 5,
   "metadata": {},
   "outputs": [
    {
     "name": "stdout",
     "output_type": "stream",
     "text": [
      "Input validation passed.\n",
      "Preference Dict: {'1': ['2', '3', '4'], '2': ['3', '1', '4'], '3': ['1', '2', '4'], '4': ['1', '2', '3']}\n",
      "Ranks Dict: {'1': {'2': 0, '3': 1, '4': 2}, '2': {'3': 0, '1': 1, '4': 2}, '3': {'1': 0, '2': 1, '4': 2}, '4': {'1': 0, '2': 1, '3': 2}}\n",
      "Stable matching is not possible. Failed at Phase 1: not everyone was proposed to.\n",
      "{'1': '3', '2': '1', '3': '2', '4': None}\n"
     ]
    },
    {
     "data": {
      "text/plain": [
       "([-1, -1, -1, -1], False, 'Failed at Phase 1: not everyone was proposed to.')"
      ]
     },
     "execution_count": 5,
     "metadata": {},
     "output_type": "execute_result"
    }
   ],
   "source": [
    "sr_matching(paper_no_matching_4, handle_odd_method='remove', debug=True)"
   ]
  },
  {
   "cell_type": "code",
   "execution_count": 6,
   "metadata": {},
   "outputs": [
    {
     "name": "stdout",
     "output_type": "stream",
     "text": [
      "Input validation passed.\n",
      "Preference Dict: {'1': ['2', '6', '4', '3', '5'], '2': ['3', '5', '1', '6', '4'], '3': ['1', '6', '2', '5', '4'], '4': ['5', '2', '3', '6', '1'], '5': ['6', '1', '3', '4', '2'], '6': ['4', '2', '5', '1', '3']}\n",
      "Ranks Dict: {'1': {'2': 0, '6': 1, '4': 2, '3': 3, '5': 4}, '2': {'3': 0, '5': 1, '1': 2, '6': 3, '4': 4}, '3': {'1': 0, '6': 1, '2': 2, '5': 3, '4': 4}, '4': {'5': 0, '2': 1, '3': 2, '6': 3, '1': 4}, '5': {'6': 0, '1': 1, '3': 2, '4': 3, '2': 4}, '6': {'4': 0, '2': 1, '5': 2, '1': 3, '3': 4}}\n",
      "Stable matching is not possible. Failed at Phase 2: could not find an all-or-nothing cycle len > 3.\n",
      "{'1': '3', '2': '1', '3': '2', '4': '6', '5': '4', '6': '5'}\n",
      "{'1': ['2', '3'], '2': ['3', '1'], '3': ['1', '2'], '4': ['5', '6'], '5': ['6', '4'], '6': ['4', '5']}\n"
     ]
    },
    {
     "data": {
      "text/plain": [
       "([-1, -1, -1, -1, -1, -1],\n",
       " False,\n",
       " 'Failed at Phase 2: could not find an all-or-nothing cycle len > 3.')"
      ]
     },
     "execution_count": 6,
     "metadata": {},
     "output_type": "execute_result"
    }
   ],
   "source": [
    "sr_matching(paper_no_matching_6, handle_odd_method='remove', debug=True)"
   ]
  },
  {
   "cell_type": "markdown",
   "metadata": {},
   "source": [
    "## Test Cases from Wikipedia Article (https://en.wikipedia.org/wiki/Stable_roommates_problem#Algorithm)"
   ]
  },
  {
   "cell_type": "code",
   "execution_count": 7,
   "metadata": {},
   "outputs": [],
   "source": [
    "wiki_matching_6 = [\n",
    "    [3, 4, 2, 6, 5],\n",
    "    [6, 5, 4, 1, 3],\n",
    "    [2, 4, 5, 1, 6],\n",
    "    [5, 2, 3, 6, 1],\n",
    "    [3, 1, 2, 4, 6],\n",
    "    [5, 1, 3, 4, 2]\n",
    "]"
   ]
  },
  {
   "cell_type": "code",
   "execution_count": 8,
   "metadata": {},
   "outputs": [
    {
     "name": "stdout",
     "output_type": "stream",
     "text": [
      "Input validation passed.\n",
      "Preference Dict: {'1': ['3', '4', '2', '6', '5'], '2': ['6', '5', '4', '1', '3'], '3': ['2', '4', '5', '1', '6'], '4': ['5', '2', '3', '6', '1'], '5': ['3', '1', '2', '4', '6'], '6': ['5', '1', '3', '4', '2']}\n",
      "Ranks Dict: {'1': {'3': 0, '4': 1, '2': 2, '6': 3, '5': 4}, '2': {'6': 0, '5': 1, '4': 2, '1': 3, '3': 4}, '3': {'2': 0, '4': 1, '5': 2, '1': 3, '6': 4}, '4': {'5': 0, '2': 1, '3': 2, '6': 3, '1': 4}, '5': {'3': 0, '1': 1, '2': 2, '4': 3, '6': 4}, '6': {'5': 0, '1': 1, '3': 2, '4': 3, '2': 4}}\n",
      "Stable matching found. Returning person : partner dictionary.\n",
      "{'1': '6', '2': '4', '3': '5', '4': '2', '5': '3', '6': '1'}\n"
     ]
    },
    {
     "data": {
      "text/plain": [
       "([5, 3, 4, 1, 2, 0], True, 'Stable matching found after Phase 2.')"
      ]
     },
     "execution_count": 8,
     "metadata": {},
     "output_type": "execute_result"
    }
   ],
   "source": [
    "sr_matching(wiki_matching_6, handle_odd_method='remove', debug=True)"
   ]
  },
  {
   "cell_type": "markdown",
   "metadata": {},
   "source": [
    "## Test Cases from External Implementation (http://www.dcs.gla.ac.uk/~pat/roommates/distribution/data/) "
   ]
  },
  {
   "cell_type": "code",
   "execution_count": 9,
   "metadata": {},
   "outputs": [],
   "source": [
    "external_matching_8 = [\n",
    "    [2, 5, 4, 6, 7, 8, 3],\n",
    "    [3, 6, 1, 7, 8, 5, 4],\n",
    "    [4, 7, 2, 8, 5, 6, 1],\n",
    "    [1, 8, 3, 5, 6, 7, 2],\n",
    "    [6, 1, 8, 2, 3, 4, 7],\n",
    "    [7, 2, 5, 3, 4, 1, 8],\n",
    "    [8, 3, 6, 4, 1, 2, 5],\n",
    "    [5, 4, 7, 1, 2, 3, 6]\n",
    "]\n",
    "\n",
    "external_matching_10 = [\n",
    "    [8, 2, 9, 3, 6, 4, 5, 7, 10],\n",
    "    [4, 3, 8, 9, 5, 1, 10, 6, 7],\n",
    "    [5, 6, 8, 2, 1, 7, 10, 4, 9],\n",
    "    [10, 7, 9, 3, 1, 6, 2, 5, 8],\n",
    "    [7, 4, 10, 8, 2, 6, 3, 1, 9],\n",
    "    [2, 8, 7, 3, 4, 10, 1, 5, 9],\n",
    "    [2, 1, 8, 3, 5, 10, 4, 6, 9],\n",
    "    [10, 4, 2, 5, 6, 7, 1, 3, 9],\n",
    "    [6, 7, 2, 5, 10, 3, 4, 8, 1],\n",
    "    [3, 1, 6, 5, 2, 9, 8, 4, 7]\n",
    "]\n",
    "\n",
    "external_matching_20 = [\n",
    "    [13, 12, 20, 17, 11, 6, 8, 2, 3, 14, 4, 16, 5, 10, 18, 19, 9, 15, 7],\n",
    "    [13, 6, 8, 17, 18, 19, 1, 11, 7, 4, 15, 16, 5, 9, 3, 20, 12, 10, 14],\n",
    "    [6, 16, 4, 9, 14, 13, 17, 19, 8, 2, 1, 12, 20, 5, 18, 15, 7, 11, 10],\n",
    "    [11, 7, 8, 2, 17, 3, 15, 6, 19, 10, 9, 5, 1, 16, 13, 20, 18, 14, 12],\n",
    "    [8, 17, 14, 16, 4, 13, 15, 6, 19, 9, 12, 7, 2, 3, 11, 18, 20, 10, 1],\n",
    "    [8, 13, 10, 14, 18, 15, 2, 7, 4, 16, 19, 5, 9, 17, 20, 3, 11, 12, 1],\n",
    "    [13, 1, 4, 9, 19, 18, 11, 14, 10, 2, 17, 6, 15, 16, 5, 3, 12, 8, 20],\n",
    "    [1, 6, 20, 7, 5, 15, 19, 4, 12, 3, 17, 9, 10, 14, 16, 2, 18, 11, 13],\n",
    "    [17, 13, 3, 5, 7, 4, 12, 2, 18, 20, 15, 8, 10, 1, 6, 11, 19, 14, 16],\n",
    "    [9, 4, 16, 14, 18, 17, 15, 11, 20, 13, 3, 12, 2, 1, 19, 7, 5, 8, 6],\n",
    "    [6, 15, 4, 1, 18, 14, 5, 3, 9, 2, 17, 13, 8, 7, 12, 20, 19, 10, 16],\n",
    "    [5, 18, 7, 16, 6, 20, 19, 14, 9, 17, 3, 1, 8, 10, 11, 13, 2, 15, 4],\n",
    "    [3, 10, 7, 18, 14, 15, 1, 6, 12, 4, 8, 19, 16, 17, 5, 20, 9, 11, 2],\n",
    "    [2, 5, 10, 13, 19, 17, 6, 3, 18, 7, 20, 9, 1, 4, 16, 12, 15, 8, 11],\n",
    "    [12, 13, 5, 11, 2, 16, 18, 14, 1, 6, 17, 8, 19, 4, 10, 7, 20, 3, 9],\n",
    "    [1, 7, 6, 5, 14, 18, 12, 17, 20, 11, 15, 10, 2, 13, 3, 8, 19, 9, 4],\n",
    "    [5, 8, 15, 9, 7, 18, 11, 10, 19, 2, 1, 12, 3, 14, 20, 13, 6, 16, 4],\n",
    "    [14, 3, 8, 10, 13, 5, 9, 15, 12, 1, 17, 6, 16, 11, 2, 7, 4, 19, 20],\n",
    "    [9, 15, 20, 12, 18, 1, 11, 5, 3, 2, 13, 14, 10, 7, 6, 16, 8, 17, 4],\n",
    "    [5, 6, 18, 19, 16, 7, 4, 9, 2, 17, 8, 15, 1, 12, 13, 10, 14, 3, 11]\n",
    "]\n",
    "\n",
    "# matching exists if algorithm leaves 7 unmatched\n",
    "external_matching_7 = [\n",
    "    [3, 4, 2, 6, 5, 7], \n",
    "    [6, 5, 4, 1, 3, 7], \n",
    "    [2, 4, 5, 1, 6, 7], \n",
    "    [5, 2, 3, 6, 1, 7],\n",
    "    [3, 1, 2, 4, 6, 7],\n",
    "    [5, 1, 3, 4, 2, 7],\n",
    "    [1, 2, 3, 4, 5, 6]\n",
    "]"
   ]
  },
  {
   "cell_type": "code",
   "execution_count": 10,
   "metadata": {},
   "outputs": [
    {
     "name": "stdout",
     "output_type": "stream",
     "text": [
      "Input validation passed.\n",
      "Preference Dict: {'1': ['2', '5', '4', '6', '7', '8', '3'], '2': ['3', '6', '1', '7', '8', '5', '4'], '3': ['4', '7', '2', '8', '5', '6', '1'], '4': ['1', '8', '3', '5', '6', '7', '2'], '5': ['6', '1', '8', '2', '3', '4', '7'], '6': ['7', '2', '5', '3', '4', '1', '8'], '7': ['8', '3', '6', '4', '1', '2', '5'], '8': ['5', '4', '7', '1', '2', '3', '6']}\n",
      "Ranks Dict: {'1': {'2': 0, '5': 1, '4': 2, '6': 3, '7': 4, '8': 5, '3': 6}, '2': {'3': 0, '6': 1, '1': 2, '7': 3, '8': 4, '5': 5, '4': 6}, '3': {'4': 0, '7': 1, '2': 2, '8': 3, '5': 4, '6': 5, '1': 6}, '4': {'1': 0, '8': 1, '3': 2, '5': 3, '6': 4, '7': 5, '2': 6}, '5': {'6': 0, '1': 1, '8': 2, '2': 3, '3': 4, '4': 5, '7': 6}, '6': {'7': 0, '2': 1, '5': 2, '3': 3, '4': 4, '1': 5, '8': 6}, '7': {'8': 0, '3': 1, '6': 2, '4': 3, '1': 4, '2': 5, '5': 6}, '8': {'5': 0, '4': 1, '7': 2, '1': 3, '2': 4, '3': 5, '6': 6}}\n",
      "Stable matching found. Returning person : partner dictionary.\n",
      "{'1': '4', '2': '3', '3': '2', '4': '1', '5': '6', '6': '5', '7': '8', '8': '7'}\n"
     ]
    },
    {
     "data": {
      "text/plain": [
       "([3, 2, 1, 0, 5, 4, 7, 6], True, 'Stable matching found after Phase 2.')"
      ]
     },
     "execution_count": 10,
     "metadata": {},
     "output_type": "execute_result"
    }
   ],
   "source": [
    "sr_matching(external_matching_8, handle_odd_method='remove', debug=True)"
   ]
  },
  {
   "cell_type": "code",
   "execution_count": 11,
   "metadata": {},
   "outputs": [
    {
     "name": "stdout",
     "output_type": "stream",
     "text": [
      "Input validation passed.\n",
      "Preference Dict: {'1': ['8', '2', '9', '3', '6', '4', '5', '7', '10'], '2': ['4', '3', '8', '9', '5', '1', '10', '6', '7'], '3': ['5', '6', '8', '2', '1', '7', '10', '4', '9'], '4': ['10', '7', '9', '3', '1', '6', '2', '5', '8'], '5': ['7', '4', '10', '8', '2', '6', '3', '1', '9'], '6': ['2', '8', '7', '3', '4', '10', '1', '5', '9'], '7': ['2', '1', '8', '3', '5', '10', '4', '6', '9'], '8': ['10', '4', '2', '5', '6', '7', '1', '3', '9'], '9': ['6', '7', '2', '5', '10', '3', '4', '8', '1'], '10': ['3', '1', '6', '5', '2', '9', '8', '4', '7']}\n",
      "Ranks Dict: {'1': {'8': 0, '2': 1, '9': 2, '3': 3, '6': 4, '4': 5, '5': 6, '7': 7, '10': 8}, '2': {'4': 0, '3': 1, '8': 2, '9': 3, '5': 4, '1': 5, '10': 6, '6': 7, '7': 8}, '3': {'5': 0, '6': 1, '8': 2, '2': 3, '1': 4, '7': 5, '10': 6, '4': 7, '9': 8}, '4': {'10': 0, '7': 1, '9': 2, '3': 3, '1': 4, '6': 5, '2': 6, '5': 7, '8': 8}, '5': {'7': 0, '4': 1, '10': 2, '8': 3, '2': 4, '6': 5, '3': 6, '1': 7, '9': 8}, '6': {'2': 0, '8': 1, '7': 2, '3': 3, '4': 4, '10': 5, '1': 6, '5': 7, '9': 8}, '7': {'2': 0, '1': 1, '8': 2, '3': 3, '5': 4, '10': 5, '4': 6, '6': 7, '9': 8}, '8': {'10': 0, '4': 1, '2': 2, '5': 3, '6': 4, '7': 5, '1': 6, '3': 7, '9': 8}, '9': {'6': 0, '7': 1, '2': 2, '5': 3, '10': 4, '3': 5, '4': 6, '8': 7, '1': 8}, '10': {'3': 0, '1': 1, '6': 2, '5': 3, '2': 4, '9': 5, '8': 6, '4': 7, '7': 8}}\n",
      "Stable matching found. Returning person : partner dictionary.\n",
      "{'1': '7', '2': '8', '3': '6', '4': '9', '5': '10', '6': '3', '7': '1', '8': '2', '9': '4', '10': '5'}\n"
     ]
    },
    {
     "data": {
      "text/plain": [
       "([6, 7, 5, 8, 9, 2, 0, 1, 3, 4], True, 'Stable matching found after Phase 2.')"
      ]
     },
     "execution_count": 11,
     "metadata": {},
     "output_type": "execute_result"
    }
   ],
   "source": [
    "sr_matching(external_matching_10, handle_odd_method='remove', debug=True)"
   ]
  },
  {
   "cell_type": "code",
   "execution_count": 12,
   "metadata": {},
   "outputs": [
    {
     "name": "stdout",
     "output_type": "stream",
     "text": [
      "Input validation passed.\n",
      "Preference Dict: {'1': ['13', '12', '20', '17', '11', '6', '8', '2', '3', '14', '4', '16', '5', '10', '18', '19', '9', '15', '7'], '2': ['13', '6', '8', '17', '18', '19', '1', '11', '7', '4', '15', '16', '5', '9', '3', '20', '12', '10', '14'], '3': ['6', '16', '4', '9', '14', '13', '17', '19', '8', '2', '1', '12', '20', '5', '18', '15', '7', '11', '10'], '4': ['11', '7', '8', '2', '17', '3', '15', '6', '19', '10', '9', '5', '1', '16', '13', '20', '18', '14', '12'], '5': ['8', '17', '14', '16', '4', '13', '15', '6', '19', '9', '12', '7', '2', '3', '11', '18', '20', '10', '1'], '6': ['8', '13', '10', '14', '18', '15', '2', '7', '4', '16', '19', '5', '9', '17', '20', '3', '11', '12', '1'], '7': ['13', '1', '4', '9', '19', '18', '11', '14', '10', '2', '17', '6', '15', '16', '5', '3', '12', '8', '20'], '8': ['1', '6', '20', '7', '5', '15', '19', '4', '12', '3', '17', '9', '10', '14', '16', '2', '18', '11', '13'], '9': ['17', '13', '3', '5', '7', '4', '12', '2', '18', '20', '15', '8', '10', '1', '6', '11', '19', '14', '16'], '10': ['9', '4', '16', '14', '18', '17', '15', '11', '20', '13', '3', '12', '2', '1', '19', '7', '5', '8', '6'], '11': ['6', '15', '4', '1', '18', '14', '5', '3', '9', '2', '17', '13', '8', '7', '12', '20', '19', '10', '16'], '12': ['5', '18', '7', '16', '6', '20', '19', '14', '9', '17', '3', '1', '8', '10', '11', '13', '2', '15', '4'], '13': ['3', '10', '7', '18', '14', '15', '1', '6', '12', '4', '8', '19', '16', '17', '5', '20', '9', '11', '2'], '14': ['2', '5', '10', '13', '19', '17', '6', '3', '18', '7', '20', '9', '1', '4', '16', '12', '15', '8', '11'], '15': ['12', '13', '5', '11', '2', '16', '18', '14', '1', '6', '17', '8', '19', '4', '10', '7', '20', '3', '9'], '16': ['1', '7', '6', '5', '14', '18', '12', '17', '20', '11', '15', '10', '2', '13', '3', '8', '19', '9', '4'], '17': ['5', '8', '15', '9', '7', '18', '11', '10', '19', '2', '1', '12', '3', '14', '20', '13', '6', '16', '4'], '18': ['14', '3', '8', '10', '13', '5', '9', '15', '12', '1', '17', '6', '16', '11', '2', '7', '4', '19', '20'], '19': ['9', '15', '20', '12', '18', '1', '11', '5', '3', '2', '13', '14', '10', '7', '6', '16', '8', '17', '4'], '20': ['5', '6', '18', '19', '16', '7', '4', '9', '2', '17', '8', '15', '1', '12', '13', '10', '14', '3', '11']}\n",
      "Ranks Dict: {'1': {'13': 0, '12': 1, '20': 2, '17': 3, '11': 4, '6': 5, '8': 6, '2': 7, '3': 8, '14': 9, '4': 10, '16': 11, '5': 12, '10': 13, '18': 14, '19': 15, '9': 16, '15': 17, '7': 18}, '2': {'13': 0, '6': 1, '8': 2, '17': 3, '18': 4, '19': 5, '1': 6, '11': 7, '7': 8, '4': 9, '15': 10, '16': 11, '5': 12, '9': 13, '3': 14, '20': 15, '12': 16, '10': 17, '14': 18}, '3': {'6': 0, '16': 1, '4': 2, '9': 3, '14': 4, '13': 5, '17': 6, '19': 7, '8': 8, '2': 9, '1': 10, '12': 11, '20': 12, '5': 13, '18': 14, '15': 15, '7': 16, '11': 17, '10': 18}, '4': {'11': 0, '7': 1, '8': 2, '2': 3, '17': 4, '3': 5, '15': 6, '6': 7, '19': 8, '10': 9, '9': 10, '5': 11, '1': 12, '16': 13, '13': 14, '20': 15, '18': 16, '14': 17, '12': 18}, '5': {'8': 0, '17': 1, '14': 2, '16': 3, '4': 4, '13': 5, '15': 6, '6': 7, '19': 8, '9': 9, '12': 10, '7': 11, '2': 12, '3': 13, '11': 14, '18': 15, '20': 16, '10': 17, '1': 18}, '6': {'8': 0, '13': 1, '10': 2, '14': 3, '18': 4, '15': 5, '2': 6, '7': 7, '4': 8, '16': 9, '19': 10, '5': 11, '9': 12, '17': 13, '20': 14, '3': 15, '11': 16, '12': 17, '1': 18}, '7': {'13': 0, '1': 1, '4': 2, '9': 3, '19': 4, '18': 5, '11': 6, '14': 7, '10': 8, '2': 9, '17': 10, '6': 11, '15': 12, '16': 13, '5': 14, '3': 15, '12': 16, '8': 17, '20': 18}, '8': {'1': 0, '6': 1, '20': 2, '7': 3, '5': 4, '15': 5, '19': 6, '4': 7, '12': 8, '3': 9, '17': 10, '9': 11, '10': 12, '14': 13, '16': 14, '2': 15, '18': 16, '11': 17, '13': 18}, '9': {'17': 0, '13': 1, '3': 2, '5': 3, '7': 4, '4': 5, '12': 6, '2': 7, '18': 8, '20': 9, '15': 10, '8': 11, '10': 12, '1': 13, '6': 14, '11': 15, '19': 16, '14': 17, '16': 18}, '10': {'9': 0, '4': 1, '16': 2, '14': 3, '18': 4, '17': 5, '15': 6, '11': 7, '20': 8, '13': 9, '3': 10, '12': 11, '2': 12, '1': 13, '19': 14, '7': 15, '5': 16, '8': 17, '6': 18}, '11': {'6': 0, '15': 1, '4': 2, '1': 3, '18': 4, '14': 5, '5': 6, '3': 7, '9': 8, '2': 9, '17': 10, '13': 11, '8': 12, '7': 13, '12': 14, '20': 15, '19': 16, '10': 17, '16': 18}, '12': {'5': 0, '18': 1, '7': 2, '16': 3, '6': 4, '20': 5, '19': 6, '14': 7, '9': 8, '17': 9, '3': 10, '1': 11, '8': 12, '10': 13, '11': 14, '13': 15, '2': 16, '15': 17, '4': 18}, '13': {'3': 0, '10': 1, '7': 2, '18': 3, '14': 4, '15': 5, '1': 6, '6': 7, '12': 8, '4': 9, '8': 10, '19': 11, '16': 12, '17': 13, '5': 14, '20': 15, '9': 16, '11': 17, '2': 18}, '14': {'2': 0, '5': 1, '10': 2, '13': 3, '19': 4, '17': 5, '6': 6, '3': 7, '18': 8, '7': 9, '20': 10, '9': 11, '1': 12, '4': 13, '16': 14, '12': 15, '15': 16, '8': 17, '11': 18}, '15': {'12': 0, '13': 1, '5': 2, '11': 3, '2': 4, '16': 5, '18': 6, '14': 7, '1': 8, '6': 9, '17': 10, '8': 11, '19': 12, '4': 13, '10': 14, '7': 15, '20': 16, '3': 17, '9': 18}, '16': {'1': 0, '7': 1, '6': 2, '5': 3, '14': 4, '18': 5, '12': 6, '17': 7, '20': 8, '11': 9, '15': 10, '10': 11, '2': 12, '13': 13, '3': 14, '8': 15, '19': 16, '9': 17, '4': 18}, '17': {'5': 0, '8': 1, '15': 2, '9': 3, '7': 4, '18': 5, '11': 6, '10': 7, '19': 8, '2': 9, '1': 10, '12': 11, '3': 12, '14': 13, '20': 14, '13': 15, '6': 16, '16': 17, '4': 18}, '18': {'14': 0, '3': 1, '8': 2, '10': 3, '13': 4, '5': 5, '9': 6, '15': 7, '12': 8, '1': 9, '17': 10, '6': 11, '16': 12, '11': 13, '2': 14, '7': 15, '4': 16, '19': 17, '20': 18}, '19': {'9': 0, '15': 1, '20': 2, '12': 3, '18': 4, '1': 5, '11': 6, '5': 7, '3': 8, '2': 9, '13': 10, '14': 11, '10': 12, '7': 13, '6': 14, '16': 15, '8': 16, '17': 17, '4': 18}, '20': {'5': 0, '6': 1, '18': 2, '19': 3, '16': 4, '7': 5, '4': 6, '9': 7, '2': 8, '17': 9, '8': 10, '15': 11, '1': 12, '12': 13, '13': 14, '10': 15, '14': 16, '3': 17, '11': 18}}\n",
      "Stable matching found. Returning person : partner dictionary.\n",
      "{'1': '8', '2': '4', '3': '9', '4': '2', '5': '17', '6': '14', '7': '13', '8': '1', '9': '3', '10': '16', '11': '15', '12': '18', '13': '7', '14': '6', '15': '11', '16': '10', '17': '5', '18': '12', '19': '20', '20': '19'}\n"
     ]
    },
    {
     "data": {
      "text/plain": [
       "([7, 3, 8, 1, 16, 13, 12, 0, 2, 15, 14, 17, 6, 5, 10, 9, 4, 11, 19, 18],\n",
       " True,\n",
       " 'Stable matching found after Phase 2.')"
      ]
     },
     "execution_count": 12,
     "metadata": {},
     "output_type": "execute_result"
    }
   ],
   "source": [
    "sr_matching(external_matching_20, handle_odd_method='remove', debug=True)"
   ]
  },
  {
   "cell_type": "code",
   "execution_count": 13,
   "metadata": {},
   "outputs": [
    {
     "name": "stdout",
     "output_type": "stream",
     "text": [
      "Input validation passed.\n",
      "Removing person 1 (matrix index), 2 (dict index)\n",
      "Preference Dict: {'1': ['3', '4', '6', '5', '7'], '3': ['4', '5', '1', '6', '7'], '4': ['5', '3', '6', '1', '7'], '5': ['3', '1', '4', '6', '7'], '6': ['5', '1', '3', '4', '7'], '7': ['1', '3', '4', '5', '6']}\n",
      "Ranks Dict: {'1': {'3': 0, '4': 1, '6': 2, '5': 3, '7': 4}, '3': {'4': 0, '5': 1, '1': 2, '6': 3, '7': 4}, '4': {'5': 0, '3': 1, '6': 2, '1': 3, '7': 4}, '5': {'3': 0, '1': 1, '4': 2, '6': 3, '7': 4}, '6': {'5': 0, '1': 1, '3': 2, '4': 3, '7': 4}, '7': {'1': 0, '3': 1, '4': 2, '5': 3, '6': 4}}\n",
      "Stable matching is not possible. Failed at Phase 1: not everyone was proposed to.\n",
      "{'1': '6', '3': '5', '4': '3', '5': '4', '6': '1', '7': None}\n",
      "Removing person 3 (matrix index), 4 (dict index)\n",
      "Preference Dict: {'1': ['3', '2', '6', '5', '7'], '2': ['6', '5', '1', '3', '7'], '3': ['2', '5', '1', '6', '7'], '5': ['3', '1', '2', '6', '7'], '6': ['5', '1', '3', '2', '7'], '7': ['1', '2', '3', '5', '6']}\n",
      "Ranks Dict: {'1': {'3': 0, '2': 1, '6': 2, '5': 3, '7': 4}, '2': {'6': 0, '5': 1, '1': 2, '3': 3, '7': 4}, '3': {'2': 0, '5': 1, '1': 2, '6': 3, '7': 4}, '5': {'3': 0, '1': 1, '2': 2, '6': 3, '7': 4}, '6': {'5': 0, '1': 1, '3': 2, '2': 3, '7': 4}, '7': {'1': 0, '2': 1, '3': 2, '5': 3, '6': 4}}\n",
      "Stable matching is not possible. Failed at Phase 1: not everyone was proposed to.\n",
      "{'1': '6', '2': '1', '3': '5', '5': '3', '6': '2', '7': None}\n",
      "Removing person 4 (matrix index), 5 (dict index)\n",
      "Preference Dict: {'1': ['3', '4', '2', '6', '7'], '2': ['6', '4', '1', '3', '7'], '3': ['2', '4', '1', '6', '7'], '4': ['2', '3', '6', '1', '7'], '6': ['1', '3', '4', '2', '7'], '7': ['1', '2', '3', '4', '6']}\n",
      "Ranks Dict: {'1': {'3': 0, '4': 1, '2': 2, '6': 3, '7': 4}, '2': {'6': 0, '4': 1, '1': 2, '3': 3, '7': 4}, '3': {'2': 0, '4': 1, '1': 2, '6': 3, '7': 4}, '4': {'2': 0, '3': 1, '6': 2, '1': 3, '7': 4}, '6': {'1': 0, '3': 1, '4': 2, '2': 3, '7': 4}, '7': {'1': 0, '2': 1, '3': 2, '4': 3, '6': 4}}\n",
      "Stable matching is not possible. Failed at Phase 1: not everyone was proposed to.\n",
      "{'1': '6', '2': '4', '3': '1', '4': '3', '6': '2', '7': None}\n",
      "Removing person 2 (matrix index), 3 (dict index)\n",
      "Preference Dict: {'1': ['4', '2', '6', '5', '7'], '2': ['6', '5', '4', '1', '7'], '4': ['5', '2', '6', '1', '7'], '5': ['1', '2', '4', '6', '7'], '6': ['5', '1', '4', '2', '7'], '7': ['1', '2', '4', '5', '6']}\n",
      "Ranks Dict: {'1': {'4': 0, '2': 1, '6': 2, '5': 3, '7': 4}, '2': {'6': 0, '5': 1, '4': 2, '1': 3, '7': 4}, '4': {'5': 0, '2': 1, '6': 2, '1': 3, '7': 4}, '5': {'1': 0, '2': 1, '4': 2, '6': 3, '7': 4}, '6': {'5': 0, '1': 1, '4': 2, '2': 3, '7': 4}, '7': {'1': 0, '2': 1, '4': 2, '5': 3, '6': 4}}\n",
      "Stable matching is not possible. Failed at Phase 1: not everyone was proposed to.\n",
      "{'1': '6', '2': '5', '4': '1', '5': '4', '6': '2', '7': None}\n",
      "Removing person 6 (matrix index), 7 (dict index)\n",
      "Preference Dict: {'1': ['3', '4', '2', '6', '5'], '2': ['6', '5', '4', '1', '3'], '3': ['2', '4', '5', '1', '6'], '4': ['5', '2', '3', '6', '1'], '5': ['3', '1', '2', '4', '6'], '6': ['5', '1', '3', '4', '2']}\n",
      "Ranks Dict: {'1': {'3': 0, '4': 1, '2': 2, '6': 3, '5': 4}, '2': {'6': 0, '5': 1, '4': 2, '1': 3, '3': 4}, '3': {'2': 0, '4': 1, '5': 2, '1': 3, '6': 4}, '4': {'5': 0, '2': 1, '3': 2, '6': 3, '1': 4}, '5': {'3': 0, '1': 1, '2': 2, '4': 3, '6': 4}, '6': {'5': 0, '1': 1, '3': 2, '4': 3, '2': 4}}\n",
      "Stable matching found. Returning person : partner dictionary.\n",
      "{'1': '6', '2': '4', '3': '5', '4': '2', '5': '3', '6': '1', '7': '-1'}\n"
     ]
    },
    {
     "data": {
      "text/plain": [
       "([5, 3, 4, 1, 2, 0, -1], True, 'Stable matching found after Phase 2.')"
      ]
     },
     "execution_count": 13,
     "metadata": {},
     "output_type": "execute_result"
    }
   ],
   "source": [
    "sr_matching(external_matching_7, handle_odd_method='remove', debug=True)"
   ]
  },
  {
   "cell_type": "markdown",
   "metadata": {},
   "source": [
    "## Custom Test Cases"
   ]
  },
  {
   "cell_type": "code",
   "execution_count": 14,
   "metadata": {},
   "outputs": [],
   "source": [
    "# empty matrix\n",
    "custom_no_matching_empty = []\n",
    "\n",
    "# one person (no matching should be possible)\n",
    "custom_no_matching_1 = [[]]\n",
    "\n",
    "# two people\n",
    "custom_matching_2 = [[2], [1]]\n",
    "\n",
    "# three people (odd: should add person and find a matching)\n",
    "custom_matching_3 = [\n",
    "    [3, 2],\n",
    "    [3, 1],\n",
    "    [1, 2]\n",
    "]"
   ]
  },
  {
   "cell_type": "code",
   "execution_count": 15,
   "metadata": {},
   "outputs": [
    {
     "name": "stdout",
     "output_type": "stream",
     "text": [
      "Input validation failed: preference_matrix must have size > 1\n",
      "Invalid input. Must be n-by-m (where m = n - 1) list of lists of numbers.\n"
     ]
    },
    {
     "data": {
      "text/plain": [
       "(None,\n",
       " False,\n",
       " 'Invalid input. Must be n-by-m (where m = n - 1) list of lists of numbers.')"
      ]
     },
     "execution_count": 15,
     "metadata": {},
     "output_type": "execute_result"
    }
   ],
   "source": [
    "sr_matching(custom_no_matching_empty, handle_odd_method='remove', debug=True)"
   ]
  },
  {
   "cell_type": "code",
   "execution_count": 16,
   "metadata": {},
   "outputs": [
    {
     "name": "stdout",
     "output_type": "stream",
     "text": [
      "Input validation failed: preference_matrix must have size > 1\n",
      "Invalid input. Must be n-by-m (where m = n - 1) list of lists of numbers.\n"
     ]
    },
    {
     "data": {
      "text/plain": [
       "(None,\n",
       " False,\n",
       " 'Invalid input. Must be n-by-m (where m = n - 1) list of lists of numbers.')"
      ]
     },
     "execution_count": 16,
     "metadata": {},
     "output_type": "execute_result"
    }
   ],
   "source": [
    "sr_matching(custom_no_matching_1, handle_odd_method='remove', debug=True)"
   ]
  },
  {
   "cell_type": "code",
   "execution_count": 17,
   "metadata": {},
   "outputs": [
    {
     "name": "stdout",
     "output_type": "stream",
     "text": [
      "Input validation passed.\n",
      "Preference Dict: {'1': ['2'], '2': ['1']}\n",
      "Ranks Dict: {'1': {'2': 0}, '2': {'1': 0}}\n",
      "Stable matching found. Returning person : partner dictionary.\n",
      "{'1': '2', '2': '1'}\n"
     ]
    },
    {
     "data": {
      "text/plain": [
       "([1, 0], True, 'Stable matching found after Phase 1.')"
      ]
     },
     "execution_count": 17,
     "metadata": {},
     "output_type": "execute_result"
    }
   ],
   "source": [
    "sr_matching(custom_matching_2, handle_odd_method='remove', debug=True)"
   ]
  },
  {
   "cell_type": "code",
   "execution_count": 18,
   "metadata": {},
   "outputs": [
    {
     "name": "stdout",
     "output_type": "stream",
     "text": [
      "Input validation passed.\n",
      "Removing person 1 (matrix index), 2 (dict index)\n",
      "Preference Dict: {'1': ['3'], '3': ['1']}\n",
      "Ranks Dict: {'1': {'3': 0}, '3': {'1': 0}}\n",
      "Stable matching found. Returning person : partner dictionary.\n",
      "{'1': '3', '3': '1', '2': '-1'}\n"
     ]
    },
    {
     "data": {
      "text/plain": [
       "([2, -1, 0], True, 'Stable matching found after Phase 1.')"
      ]
     },
     "execution_count": 18,
     "metadata": {},
     "output_type": "execute_result"
    }
   ],
   "source": [
    "sr_matching(custom_matching_3, handle_odd_method='remove', debug=True)"
   ]
  },
  {
   "cell_type": "markdown",
   "metadata": {},
   "source": [
    "## Partial Matching Testing"
   ]
  },
  {
   "cell_type": "code",
   "execution_count": 19,
   "metadata": {},
   "outputs": [],
   "source": [
    "with open('../inputStable.json') as input_file:\n",
    "    input_stable = json.load(input_file)\n",
    "    \n",
    "with open('../inputUnstable.json') as input_file:\n",
    "    input_unstable = json.load(input_file)"
   ]
  },
  {
   "cell_type": "code",
   "execution_count": 20,
   "metadata": {},
   "outputs": [
    {
     "data": {
      "text/plain": [
       "{'matching': [7, 2, 1, 9, 5, 4, 10, 0, 11, 3, 6, 8],\n",
       " 'fully_stable': True,\n",
       " 'stable_debug': 'Stable matching found after Phase 1.',\n",
       " 'stable_result': [7, 2, 1, 9, 5, 4, 10, 0, 11, 3, 6, 8],\n",
       " 'mwm_result_full': [7, 3, 6, 1, 5, 4, 2, 0, 11, 10, 9, 8],\n",
       " 'mwm_result_partial': [],\n",
       " 'mwm_remap_dict': {}}"
      ]
     },
     "execution_count": 20,
     "metadata": {},
     "output_type": "execute_result"
    }
   ],
   "source": [
    "create_matching_output(input_stable)"
   ]
  },
  {
   "cell_type": "code",
   "execution_count": 21,
   "metadata": {
    "scrolled": false
   },
   "outputs": [
    {
     "data": {
      "text/plain": [
       "{'matching': [2,\n",
       "  17,\n",
       "  0,\n",
       "  13,\n",
       "  8,\n",
       "  10,\n",
       "  14,\n",
       "  19,\n",
       "  4,\n",
       "  12,\n",
       "  5,\n",
       "  16,\n",
       "  9,\n",
       "  3,\n",
       "  6,\n",
       "  18,\n",
       "  11,\n",
       "  1,\n",
       "  15,\n",
       "  7],\n",
       " 'fully_stable': False,\n",
       " 'stable_debug': 'Failed at Phase 2: could not find an all-or-nothing cycle len > 3.',\n",
       " 'stable_result': [2,\n",
       "  -1,\n",
       "  0,\n",
       "  13,\n",
       "  8,\n",
       "  10,\n",
       "  14,\n",
       "  -1,\n",
       "  4,\n",
       "  12,\n",
       "  5,\n",
       "  16,\n",
       "  9,\n",
       "  3,\n",
       "  6,\n",
       "  -1,\n",
       "  11,\n",
       "  -1,\n",
       "  -1,\n",
       "  -1],\n",
       " 'mwm_result_full': [12,\n",
       "  9,\n",
       "  10,\n",
       "  6,\n",
       "  8,\n",
       "  7,\n",
       "  3,\n",
       "  5,\n",
       "  4,\n",
       "  1,\n",
       "  2,\n",
       "  16,\n",
       "  0,\n",
       "  15,\n",
       "  18,\n",
       "  13,\n",
       "  11,\n",
       "  19,\n",
       "  14,\n",
       "  17],\n",
       " 'mwm_result_partial': [3, 5, 4, 0, 2, 1],\n",
       " 'mwm_remap_dict': {'1': 0, '7': 1, '15': 2, '17': 3, '18': 4, '19': 5}}"
      ]
     },
     "execution_count": 21,
     "metadata": {},
     "output_type": "execute_result"
    }
   ],
   "source": [
    "create_matching_output(input_unstable)"
   ]
  }
 ],
 "metadata": {
  "kernelspec": {
   "display_name": "Python 3",
   "language": "python",
   "name": "python3"
  },
  "language_info": {
   "codemirror_mode": {
    "name": "ipython",
    "version": 3
   },
   "file_extension": ".py",
   "mimetype": "text/x-python",
   "name": "python",
   "nbconvert_exporter": "python",
   "pygments_lexer": "ipython3",
   "version": "3.7.2"
  }
 },
 "nbformat": 4,
 "nbformat_minor": 2
}
