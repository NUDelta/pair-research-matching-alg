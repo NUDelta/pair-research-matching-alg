{
 "cells": [
  {
   "cell_type": "markdown",
   "metadata": {},
   "source": [
    "# Stable Matching Pair Research\n",
    "Implementation of [Stable Roomates](http://www.dcs.gla.ac.uk/~pat/jchoco/roommates/papers/Comp_sdarticle.pdf) for [Pair Research](http://pairresearch.io/). "
   ]
  },
  {
   "cell_type": "markdown",
   "metadata": {},
   "source": [
    "input from pair research: [(0, 1, 93), (0, 2, -20), (0, 3, 2), (1, 2, -13), (1, 3, 10), (2, 3, 80)]\n",
    "- Single edge between two users with some weight for said edge"
   ]
  },
  {
   "cell_type": "markdown",
   "metadata": {},
   "source": [
    "## Implementation of Standard Stable Roommates Matching \n",
    "What follows is a standard implmentation of the SR algorithm. It alone will **not** handle cases where (1) lists are not complete with preferences and (2) there are odd numbers of users."
   ]
  },
  {
   "cell_type": "code",
   "execution_count": 1,
   "metadata": {
    "collapsed": true
   },
   "outputs": [],
   "source": [
    "from __future__ import print_function\n",
    "\n",
    "import random\n",
    "from copy import deepcopy\n",
    "\n",
    "\n",
    "def stable_roommates(preferences, debug=False):\n",
    "    \"\"\"\n",
    "    Runs complete algorithm returns a stable matching, if exists.\n",
    "\n",
    "    Input:\n",
    "        preferences (matrix, list of lists): n-by-m preference matrix containing preferences for each person.\n",
    "            m = n - 1, so each person has rated all other people.\n",
    "            Each row is a 1-indexed ordered ranking of others in the pool.\n",
    "            Thus, max(preferences[person]) <= number people and min(preferences[person]) = 1.\n",
    "        debug (boolean): including print statements\n",
    "\n",
    "    Return:\n",
    "        (list of tuples): stable matching, if exists. Otherwise, None.\n",
    "    \"\"\"\n",
    "    # create a preference lookup table\n",
    "    # person_number : [list of preferences]\n",
    "    preferences_dict = {str(x + 1): [str(y) for y in preferences[x]] for x in range(len(preferences))}\n",
    "\n",
    "    # create a dict of dicts holding index of each person ranked\n",
    "    # person number : {person : rank_index }\n",
    "    ranks = {index: dict(zip(value, range(len(value)))) for index, value in preferences_dict.iteritems()}\n",
    "\n",
    "    # phase 1: initial proposal\n",
    "    p1_holds = phase_1(preferences_dict, ranks)\n",
    "\n",
    "    # if anyone does not have a hold, stable matching is not possible\n",
    "    for hold in p1_holds:\n",
    "        if p1_holds[hold] is None:\n",
    "            if debug:\n",
    "                print('Stable matching is not possible. Failed at Phase 1: not everyone was proposed to.')\n",
    "            return None\n",
    "\n",
    "    # phase 1: reduction\n",
    "    p1_reduced_preferences = phase_1_reduce(preferences_dict, ranks, p1_holds)\n",
    "\n",
    "    # phase 1: stable match halting condition\n",
    "    # if p1_reduced_preferences has only one preference per person, matching should be stable (lemma 2)\n",
    "    p1_halt = True\n",
    "    for person in p1_reduced_preferences:\n",
    "        if len(p1_reduced_preferences[person]) > 1:\n",
    "            p1_halt = False\n",
    "            break\n",
    "\n",
    "    if p1_halt:\n",
    "        # verification before returning\n",
    "        if verify_matching(p1_holds):\n",
    "            if verify_stability(p1_holds, ranks):\n",
    "                if debug:\n",
    "                    print('Stable matching found. Returning person : partner dictionary.')\n",
    "                return p1_holds\n",
    "            else:\n",
    "                if debug:\n",
    "                    print('Stable matching is not possible. Failed at Verification: matching computed, but not stable.')\n",
    "                return None\n",
    "        else:\n",
    "            if debug:\n",
    "                print('Stable matching is not possible. Failed at Verification: matching computed, but not valid.')\n",
    "            return None\n",
    "\n",
    "    # phase 2: find an all-or-nothing cycle\n",
    "    cycle = find_all_or_nothing_cycle(p1_reduced_preferences, ranks, p1_holds)\n",
    "\n",
    "    # if cycle with more than size 3 does not exist, no stable matching exists\n",
    "    if cycle is None:\n",
    "        if debug:\n",
    "            print('Stable matching is not possible. Failed at Phase 2: could not find an all-or-nothing cycle.')\n",
    "        return None\n",
    "    elif cycle is not None and len(cycle) == 3:\n",
    "        if debug:\n",
    "            print('Stable matching is not possible. Failed at Phase 2: could not find an all-or-nothing cycle len > 3.')\n",
    "        return None\n",
    "\n",
    "    # phase 2: reduction\n",
    "    final_holds = phase_2_reduce(p1_reduced_preferences, ranks, cycle)\n",
    "\n",
    "    # check if holds are not empty\n",
    "    if final_holds is not None:\n",
    "        # verification\n",
    "        if verify_matching(final_holds):\n",
    "            if verify_stability(final_holds, ranks):\n",
    "                if debug:\n",
    "                    print('Stable matching found. Returning person : partner dictionary.')\n",
    "                return final_holds\n",
    "            else:\n",
    "                if debug:\n",
    "                    print('Stable matching is not possible. Failed at Verification: matching computed, but not stable.')\n",
    "                return None\n",
    "        else:\n",
    "            if debug:\n",
    "                print('Stable matching is not possible. Failed at Verification: matching computed, but not valid.')\n",
    "            return None\n",
    "    else:\n",
    "        if debug:\n",
    "            print('Stable matching is not possible. Failed at Phase 2 reduction.')\n",
    "        return None\n",
    "\n",
    "\n",
    "def phase_1(preferences, ranks, curr_holds=None):\n",
    "    \"\"\"\n",
    "    Performs first phase of matching by doing round robin proposals until stopping condition (i) or (ii) is met:\n",
    "         (i) each person is holding a proposal\n",
    "        (ii) one person is rejected by everyone\n",
    "\n",
    "    Input:\n",
    "        preferences (dict of list of strings): dict of ordered preference lists {person : [ordered list]}\n",
    "        ranks (dict of dict of ranking index): dict of persons with dicts indicating rank of each other person\n",
    "        curr_holds (dict, optional): dict of persons with current holds\n",
    "\n",
    "    Return:\n",
    "        (dict): holds after condition (i) or (ii) is met.\n",
    "    \"\"\"\n",
    "    people = preferences.keys()\n",
    "\n",
    "    # placeholder for holds\n",
    "    holds = {person: None for person in people}\n",
    "\n",
    "    # during phase 1, no holds exist. initialize curr_holds to 0 (all people are > 0)\n",
    "    if curr_holds is None:\n",
    "        curr_holds = {person: 0 for person in people}\n",
    "\n",
    "    # randomize ordering of proposal\n",
    "    random.shuffle(people)\n",
    "\n",
    "    # track people who are already proposed to\n",
    "    proposed_set = set()\n",
    "\n",
    "    # begin proposing\n",
    "    for person in people:\n",
    "        proposer = person\n",
    "\n",
    "        # proposal step\n",
    "        while True:\n",
    "            # find proposer someone to propose to, in order of proposer's preference list\n",
    "            while curr_holds[proposer] < len(preferences[proposer]):\n",
    "                # find proposee given proposer's preferences\n",
    "                proposee = preferences[proposer][curr_holds[proposer]]\n",
    "                curr_holds[proposer] += 1\n",
    "\n",
    "                # find who proposee is holding, if any\n",
    "                proposee_hold = holds[proposee]\n",
    "\n",
    "                # stop searching if proposee doesn't hold anyone or ranks proposer higher than curr hold\n",
    "                if proposee_hold is None or ranks[proposee][proposer] < ranks[proposee][proposee_hold]:\n",
    "                    # proposee holds proposer's choice\n",
    "                    holds[proposee] = proposer\n",
    "                    break\n",
    "\n",
    "            # check if proposee has already been proposed to\n",
    "            if proposee not in proposed_set:\n",
    "                # successful proposal\n",
    "                proposed_set.add(proposee)\n",
    "                break\n",
    "\n",
    "            # if all preferences are exhausted and proposee does not have anyone, stop\n",
    "            if curr_holds[proposer] >= len(preferences[proposer]):\n",
    "                break\n",
    "\n",
    "            # if proposee is proposed to, reject proposee_hold and continue proposal with them\n",
    "            proposer = proposee_hold\n",
    "\n",
    "    # final holds from phase 1\n",
    "    return holds\n",
    "\n",
    "\n",
    "def phase_1_reduce(preferences, ranks, holds):\n",
    "    \"\"\"\n",
    "    Performs a reduction on preferences based on phase 1 proposals, and the following:\n",
    "        Preference list for y who holds proposal x can be reduced by deleting\n",
    "             (i) all those to whom y prefers x\n",
    "            (ii) all those who hold a proposal from a person they prefer to y\n",
    "\n",
    "    Input:\n",
    "        preferences (dict of list of strings): dict of ordered preference lists {person : [ordered list]}\n",
    "        ranks (dict of dict of ranking index): dict of persons with dicts indicating rank of each other person\n",
    "        holds (dict): dict of persons with current holds\n",
    "\n",
    "    Return:\n",
    "        (dict of list of strings): reduced preference list such that:\n",
    "            (iii) y is the first on x's list and last on y's\n",
    "             (iv) b appears on a's list iff a appears on b's\n",
    "    \"\"\"\n",
    "    # create output preferences\n",
    "    reduced_preferences = deepcopy(preferences)\n",
    "\n",
    "    # loop though each hold\n",
    "    for proposee in holds:\n",
    "        proposer = holds[proposee]\n",
    "\n",
    "        # loop though all of person's preferences\n",
    "        i = 0\n",
    "        while i < len(reduced_preferences[proposee]):\n",
    "            # fetch proposee's preferences\n",
    "            curr_proposee_preference = reduced_preferences[proposee][i]\n",
    "\n",
    "            # proposee should only hold preferences equal and higher to proposer (i)\n",
    "            if curr_proposee_preference == proposer:\n",
    "                reduced_preferences[proposee] = reduced_preferences[proposee][:(i + 1)]\n",
    "            # delete all people who hold a proposal from someone they prefer to the proposee (ii)\n",
    "            elif ranks[curr_proposee_preference][holds[curr_proposee_preference]] < \\\n",
    "                    ranks[curr_proposee_preference][proposee]:\n",
    "                reduced_preferences[proposee].pop(i)\n",
    "                continue\n",
    "\n",
    "            # continue to preference list\n",
    "            i += 1\n",
    "\n",
    "    return reduced_preferences\n",
    "\n",
    "\n",
    "def find_all_or_nothing_cycle(preferences, ranks, holds):\n",
    "    \"\"\"\n",
    "    Finds an all-or-nothing cycle in reduced preferences, if exists.\n",
    "\n",
    "    Input:\n",
    "        preferences (dict of list of strings): dict of ordered preference lists {person : [ordered list]}\n",
    "        ranks (dict of dict of ranking index): dict of persons with dicts indicating rank of each other person\n",
    "        holds (dict): dict of persons with current holds\n",
    "\n",
    "    Return:\n",
    "        (list): cycle of users\n",
    "    \"\"\"\n",
    "    # start with two individuals, p and q\n",
    "    p = []\n",
    "    q = []\n",
    "\n",
    "    # find a person with > 1 preference left\n",
    "    curr = None\n",
    "    for person in preferences:\n",
    "        if len(preferences[person]) > 1:\n",
    "            curr = person\n",
    "            break\n",
    "\n",
    "    # if no person can be found, no cycle exists\n",
    "    if curr is None:\n",
    "        return None\n",
    "\n",
    "    # create cycle\n",
    "    while curr not in p:\n",
    "        # q_i = second person in p_i's list\n",
    "        q += [preferences[curr][1]]\n",
    "\n",
    "        # p_{i + 1} = q_i's last person\n",
    "        p += [curr]\n",
    "        curr = preferences[q[-1]][-1]\n",
    "\n",
    "    cycle = p[p.index(curr):]\n",
    "\n",
    "    return cycle\n",
    "\n",
    "\n",
    "def phase_2_reduce(preferences, ranks, cycle):\n",
    "    \"\"\"\n",
    "    Performs a reduction on found all-or-nothing cycles.\n",
    "\n",
    "    Input:\n",
    "        preferences (dict of list of strings): dict of ordered preference lists {person : [ordered list]}\n",
    "        ranks (dict of dict of ranking index): dict of persons with dicts indicating rank of each other person\n",
    "        cycle (list): all-or-nothing cycle\n",
    "\n",
    "    Return:\n",
    "        (dict): holds after sequential reductions, or None if no matching can be found.\n",
    "    \"\"\"\n",
    "    # continue while a cycle exists\n",
    "    curr_cycle = deepcopy(cycle)\n",
    "    curr_holds = None\n",
    "    p2_preferences = deepcopy(preferences)\n",
    "\n",
    "    while curr_cycle is not None:\n",
    "        curr_preferences = {}\n",
    "\n",
    "        for person in preferences:\n",
    "            if person in curr_cycle:\n",
    "                curr_preferences[person] = 1\n",
    "            else:\n",
    "                curr_preferences[person] = 0\n",
    "\n",
    "        curr_holds = phase_1(p2_preferences, ranks, curr_preferences)\n",
    "        p2_preferences = phase_1_reduce(p2_preferences, ranks, curr_holds)\n",
    "\n",
    "        curr_cycle = find_all_or_nothing_cycle(p2_preferences, ranks, curr_holds)\n",
    "\n",
    "    return curr_holds\n",
    "\n",
    "\n",
    "def verify_matching(matching):\n",
    "    \"\"\"\n",
    "    Checks if a matching is valid.\n",
    "        Valid matchings have all people matched to one and only one person.\n",
    "\n",
    "    Input:\n",
    "        matching (dict): dict containing person:matching pairs\n",
    "\n",
    "    Return:\n",
    "        (boolean)): matching is valid\n",
    "    \"\"\"\n",
    "    # validate matching\n",
    "    person_set = {person for person in matching.keys()}\n",
    "    matching_set = {match for match in matching.values()}\n",
    "\n",
    "    # equal cardinality and content\n",
    "    if person_set != matching_set:\n",
    "        return False\n",
    "\n",
    "    # check for a:b, then b:a\n",
    "    for person in matching:\n",
    "        if person != matching[matching[person]]:\n",
    "            return False\n",
    "\n",
    "    # matching is valid\n",
    "    return True\n",
    "\n",
    "\n",
    "def verify_stability(matching, ranks):\n",
    "    \"\"\"\n",
    "    Checks if a valid matching (all people matched to one and only one person) is stable.\n",
    "        Stable iff no two unmatched members both prefer each other to their current partners in the matching.\n",
    "\n",
    "    Input:\n",
    "        matching (dict): dict containing person:matching pairs\n",
    "        ranks (dict of dict of ranking index): dict of persons with dicts indicating rank of each other person\n",
    "\n",
    "    Output:\n",
    "        (boolean): matching is stable\n",
    "    \"\"\"\n",
    "    for x in matching:\n",
    "        for y in matching:\n",
    "            # ignore if x, y are the same or x, y are matched\n",
    "            if x == y or y == matching[x]:\n",
    "                continue\n",
    "\n",
    "            # get partner under matching for x, y and corresponding ranks of matched partners\n",
    "            x_partner = matching[x]\n",
    "            y_partner = matching[y]\n",
    "\n",
    "            x_partner_rank = ranks[x][x_partner]\n",
    "            y_partner_rank = ranks[y][y_partner]\n",
    "\n",
    "            # get ranking of x -> y, y -> x\n",
    "            x_y_rank = ranks[x][y]\n",
    "            y_x_rank = ranks[y][x]\n",
    "\n",
    "            # if x prefers y to current partner AND y prefers x to current partner, unstable\n",
    "            # prefer = lower ranking index since ranking is highest -> lowest preference\n",
    "            if x_y_rank < x_partner_rank and y_x_rank < y_partner_rank:\n",
    "                return False\n",
    "\n",
    "    return True\n"
   ]
  },
  {
   "cell_type": "markdown",
   "metadata": {},
   "source": [
    "## Test Cases\n",
    "A variety of test cases from (1) Irving's paper, (2) Wikipedia, (3) external implementations, and (4) any other custom cases."
   ]
  },
  {
   "cell_type": "markdown",
   "metadata": {},
   "source": [
    "### Test Case from Irving's Paper"
   ]
  },
  {
   "cell_type": "code",
   "execution_count": 2,
   "metadata": {
    "collapsed": true
   },
   "outputs": [],
   "source": [
    "paper_matching_6 = [\n",
    "    [4, 6, 2, 5, 3],\n",
    "    [6, 3, 5, 1, 4],\n",
    "    [4, 5, 1, 6, 2],\n",
    "    [2, 6, 5, 1, 3],\n",
    "    [4, 2, 3, 6, 1],\n",
    "    [5, 1, 4, 2, 3]\n",
    "]\n",
    "\n",
    "paper_matching_8 = [\n",
    "    [2, 5, 4, 6, 7, 8, 3],\n",
    "    [3, 6, 1, 7, 8, 5, 4],\n",
    "    [4, 7, 2, 8, 5, 6, 1],\n",
    "    [1, 8, 3, 5, 6, 7, 2],\n",
    "    [6, 1, 8, 2, 3, 4, 7],\n",
    "    [7, 2, 5, 3, 4, 1, 8],\n",
    "    [8, 3, 6, 4, 1, 2, 5],\n",
    "    [5, 4, 7, 1, 2, 3, 6]\n",
    "]\n",
    "\n",
    "paper_no_matching_4 = [\n",
    "    [2, 3, 4],\n",
    "    [3, 1, 4],\n",
    "    [1, 2, 4],\n",
    "    [1, 2, 3]\n",
    "]\n",
    "\n",
    "paper_no_matching_6 = [\n",
    "    [2, 6, 4, 3, 5],\n",
    "    [3, 5, 1, 6, 4],\n",
    "    [1, 6, 2, 5, 4],\n",
    "    [5, 2, 3, 6, 1],\n",
    "    [6, 1, 3, 4, 2],\n",
    "    [4, 2, 5, 1, 3]\n",
    "]"
   ]
  },
  {
   "cell_type": "code",
   "execution_count": 3,
   "metadata": {},
   "outputs": [
    {
     "name": "stdout",
     "output_type": "stream",
     "text": [
      "Stable matching found. Returning person : partner dictionary.\n"
     ]
    },
    {
     "data": {
      "text/plain": [
       "{'1': '6', '2': '3', '3': '2', '4': '5', '5': '4', '6': '1'}"
      ]
     },
     "execution_count": 3,
     "metadata": {},
     "output_type": "execute_result"
    }
   ],
   "source": [
    "stable_roommates(paper_matching_6, debug=True)"
   ]
  },
  {
   "cell_type": "code",
   "execution_count": 4,
   "metadata": {},
   "outputs": [
    {
     "name": "stdout",
     "output_type": "stream",
     "text": [
      "Stable matching found. Returning person : partner dictionary.\n"
     ]
    },
    {
     "data": {
      "text/plain": [
       "{'1': '4',\n",
       " '2': '3',\n",
       " '3': '2',\n",
       " '4': '1',\n",
       " '5': '6',\n",
       " '6': '5',\n",
       " '7': '8',\n",
       " '8': '7'}"
      ]
     },
     "execution_count": 4,
     "metadata": {},
     "output_type": "execute_result"
    }
   ],
   "source": [
    "stable_roommates(paper_matching_8, debug=True)"
   ]
  },
  {
   "cell_type": "code",
   "execution_count": 5,
   "metadata": {},
   "outputs": [
    {
     "name": "stdout",
     "output_type": "stream",
     "text": [
      "Stable matching is not possible. Failed at Phase 1: not everyone was proposed to.\n"
     ]
    }
   ],
   "source": [
    "stable_roommates(paper_no_matching_4, debug=True)"
   ]
  },
  {
   "cell_type": "code",
   "execution_count": 6,
   "metadata": {},
   "outputs": [
    {
     "name": "stdout",
     "output_type": "stream",
     "text": [
      "Stable matching is not possible. Failed at Phase 2: could not find an all-or-nothing cycle len > 3.\n"
     ]
    }
   ],
   "source": [
    "stable_roommates(paper_no_matching_6, debug=True)"
   ]
  },
  {
   "cell_type": "markdown",
   "metadata": {},
   "source": [
    "### Test Cases from Wikipedia Article (https://en.wikipedia.org/wiki/Stable_roommates_problem#Algorithm)"
   ]
  },
  {
   "cell_type": "code",
   "execution_count": 7,
   "metadata": {
    "collapsed": true
   },
   "outputs": [],
   "source": [
    "wiki_matching_6 = [\n",
    "    [3, 4, 2, 6, 5],\n",
    "    [6, 5, 4, 1, 3],\n",
    "    [2, 4, 5, 1, 6],\n",
    "    [5, 2, 3, 6, 1],\n",
    "    [3, 1, 2, 4, 6],\n",
    "    [5, 1, 3, 4, 2]\n",
    "]"
   ]
  },
  {
   "cell_type": "code",
   "execution_count": 8,
   "metadata": {},
   "outputs": [
    {
     "name": "stdout",
     "output_type": "stream",
     "text": [
      "Stable matching found. Returning person : partner dictionary.\n"
     ]
    },
    {
     "data": {
      "text/plain": [
       "{'1': '6', '2': '4', '3': '5', '4': '2', '5': '3', '6': '1'}"
      ]
     },
     "execution_count": 8,
     "metadata": {},
     "output_type": "execute_result"
    }
   ],
   "source": [
    "stable_roommates(wiki_matching_6, debug=True)"
   ]
  },
  {
   "cell_type": "markdown",
   "metadata": {},
   "source": [
    "### Test Cases from External Implementation (http://www.dcs.gla.ac.uk/~pat/roommates/distribution/data/) "
   ]
  },
  {
   "cell_type": "code",
   "execution_count": 9,
   "metadata": {
    "collapsed": true
   },
   "outputs": [],
   "source": [
    "matching_8 = [\n",
    "    [2, 5, 4, 6, 7, 8, 3],\n",
    "    [3, 6, 1, 7, 8, 5, 4],\n",
    "    [4, 7, 2, 8, 5, 6, 1],\n",
    "    [1, 8, 3, 5, 6, 7, 2],\n",
    "    [6, 1, 8, 2, 3, 4, 7],\n",
    "    [7, 2, 5, 3, 4, 1, 8],\n",
    "    [8, 3, 6, 4, 1, 2, 5],\n",
    "    [5, 4, 7, 1, 2, 3, 6]\n",
    "]\n",
    "\n",
    "matching_10 = [\n",
    "    [8, 2, 9, 3, 6, 4, 5, 7, 10],\n",
    "    [4, 3, 8, 9, 5, 1, 10, 6, 7],\n",
    "    [5, 6, 8, 2, 1, 7, 10, 4, 9],\n",
    "    [10, 7, 9, 3, 1, 6, 2, 5, 8],\n",
    "    [7, 4, 10, 8, 2, 6, 3, 1, 9],\n",
    "    [2, 8, 7, 3, 4, 10, 1, 5, 9],\n",
    "    [2, 1, 8, 3, 5, 10, 4, 6, 9],\n",
    "    [10, 4, 2, 5, 6, 7, 1, 3, 9],\n",
    "    [6, 7, 2, 5, 10, 3, 4, 8, 1],\n",
    "    [3, 1, 6, 5, 2, 9, 8, 4, 7]\n",
    "]\n",
    "\n",
    "matching_20 = [\n",
    "    [13, 12, 20, 17, 11, 6, 8, 2, 3, 14, 4, 16, 5, 10, 18, 19, 9, 15, 7],\n",
    "    [13, 6, 8, 17, 18, 19, 1, 11, 7, 4, 15, 16, 5, 9, 3, 20, 12, 10, 14],\n",
    "    [6, 16, 4, 9, 14, 13, 17, 19, 8, 2, 1, 12, 20, 5, 18, 15, 7, 11, 10],\n",
    "    [11, 7, 8, 2, 17, 3, 15, 6, 19, 10, 9, 5, 1, 16, 13, 20, 18, 14, 12],\n",
    "    [8, 17, 14, 16, 4, 13, 15, 6, 19, 9, 12, 7, 2, 3, 11, 18, 20, 10, 1],\n",
    "    [8, 13, 10, 14, 18, 15, 2, 7, 4, 16, 19, 5, 9, 17, 20, 3, 11, 12, 1],\n",
    "    [13, 1, 4, 9, 19, 18, 11, 14, 10, 2, 17, 6, 15, 16, 5, 3, 12, 8, 20],\n",
    "    [1, 6, 20, 7, 5, 15, 19, 4, 12, 3, 17, 9, 10, 14, 16, 2, 18, 11, 13],\n",
    "    [17, 13, 3, 5, 7, 4, 12, 2, 18, 20, 15, 8, 10, 1, 6, 11, 19, 14, 16],\n",
    "    [9, 4, 16, 14, 18, 17, 15, 11, 20, 13, 3, 12, 2, 1, 19, 7, 5, 8, 6],\n",
    "    [6, 15, 4, 1, 18, 14, 5, 3, 9, 2, 17, 13, 8, 7, 12, 20, 19, 10, 16],\n",
    "    [5, 18, 7, 16, 6, 20, 19, 14, 9, 17, 3, 1, 8, 10, 11, 13, 2, 15, 4],\n",
    "    [3, 10, 7, 18, 14, 15, 1, 6, 12, 4, 8, 19, 16, 17, 5, 20, 9, 11, 2],\n",
    "    [2, 5, 10, 13, 19, 17, 6, 3, 18, 7, 20, 9, 1, 4, 16, 12, 15, 8, 11],\n",
    "    [12, 13, 5, 11, 2, 16, 18, 14, 1, 6, 17, 8, 19, 4, 10, 7, 20, 3, 9],\n",
    "    [1, 7, 6, 5, 14, 18, 12, 17, 20, 11, 15, 10, 2, 13, 3, 8, 19, 9, 4],\n",
    "    [5, 8, 15, 9, 7, 18, 11, 10, 19, 2, 1, 12, 3, 14, 20, 13, 6, 16, 4],\n",
    "    [14, 3, 8, 10, 13, 5, 9, 15, 12, 1, 17, 6, 16, 11, 2, 7, 4, 19, 20],\n",
    "    [9, 15, 20, 12, 18, 1, 11, 5, 3, 2, 13, 14, 10, 7, 6, 16, 8, 17, 4],\n",
    "    [5, 6, 18, 19, 16, 7, 4, 9, 2, 17, 8, 15, 1, 12, 13, 10, 14, 3, 11]\n",
    "]\n",
    "\n",
    "no_matching_7 = [\n",
    "    [3, 4, 2, 6, 5, 7], \n",
    "    [6, 5, 4, 1, 3, 7], \n",
    "    [2, 4, 5, 1, 6, 7], \n",
    "    [5, 2, 3, 6, 1, 7],\n",
    "    [3, 1, 2, 4, 6, 7],\n",
    "    [5, 1, 3, 4, 2, 7],\n",
    "    [1, 2, 3, 4, 5, 6]\n",
    "]"
   ]
  },
  {
   "cell_type": "code",
   "execution_count": 10,
   "metadata": {},
   "outputs": [
    {
     "name": "stdout",
     "output_type": "stream",
     "text": [
      "Stable matching found. Returning person : partner dictionary.\n"
     ]
    },
    {
     "data": {
      "text/plain": [
       "{'1': '4',\n",
       " '2': '3',\n",
       " '3': '2',\n",
       " '4': '1',\n",
       " '5': '6',\n",
       " '6': '5',\n",
       " '7': '8',\n",
       " '8': '7'}"
      ]
     },
     "execution_count": 10,
     "metadata": {},
     "output_type": "execute_result"
    }
   ],
   "source": [
    "stable_roommates(matching_8, debug=True)"
   ]
  },
  {
   "cell_type": "code",
   "execution_count": 11,
   "metadata": {},
   "outputs": [
    {
     "name": "stdout",
     "output_type": "stream",
     "text": [
      "Stable matching found. Returning person : partner dictionary.\n"
     ]
    },
    {
     "data": {
      "text/plain": [
       "{'1': '4',\n",
       " '10': '8',\n",
       " '2': '9',\n",
       " '3': '6',\n",
       " '4': '1',\n",
       " '5': '7',\n",
       " '6': '3',\n",
       " '7': '5',\n",
       " '8': '10',\n",
       " '9': '2'}"
      ]
     },
     "execution_count": 11,
     "metadata": {},
     "output_type": "execute_result"
    }
   ],
   "source": [
    "stable_roommates(matching_10, debug=True)"
   ]
  },
  {
   "cell_type": "code",
   "execution_count": 12,
   "metadata": {},
   "outputs": [
    {
     "name": "stdout",
     "output_type": "stream",
     "text": [
      "Stable matching found. Returning person : partner dictionary.\n"
     ]
    },
    {
     "data": {
      "text/plain": [
       "{'1': '8',\n",
       " '10': '14',\n",
       " '11': '15',\n",
       " '12': '16',\n",
       " '13': '7',\n",
       " '14': '10',\n",
       " '15': '11',\n",
       " '16': '12',\n",
       " '17': '5',\n",
       " '18': '9',\n",
       " '19': '20',\n",
       " '2': '6',\n",
       " '20': '19',\n",
       " '3': '4',\n",
       " '4': '3',\n",
       " '5': '17',\n",
       " '6': '2',\n",
       " '7': '13',\n",
       " '8': '1',\n",
       " '9': '18'}"
      ]
     },
     "execution_count": 12,
     "metadata": {},
     "output_type": "execute_result"
    }
   ],
   "source": [
    "stable_roommates(matching_20, debug=True)"
   ]
  },
  {
   "cell_type": "code",
   "execution_count": 13,
   "metadata": {},
   "outputs": [
    {
     "name": "stdout",
     "output_type": "stream",
     "text": [
      "Stable matching is not possible. Failed at Phase 1: not everyone was proposed to.\n"
     ]
    }
   ],
   "source": [
    "stable_roommates(no_matching_7, debug=True) # odd case: add an additional person and rank them last in each person's list? "
   ]
  },
  {
   "cell_type": "markdown",
   "metadata": {},
   "source": [
    "### Custom Test Cases"
   ]
  },
  {
   "cell_type": "code",
   "execution_count": 14,
   "metadata": {
    "collapsed": true
   },
   "outputs": [],
   "source": [
    "# odd filled with n + 1 row\n",
    "custom_3 = [\n",
    "    [3, 2, 4],\n",
    "    [3, 1, 4],\n",
    "    [1, 2, 4],\n",
    "    [1, 2, 3]\n",
    "]"
   ]
  },
  {
   "cell_type": "code",
   "execution_count": 15,
   "metadata": {},
   "outputs": [
    {
     "name": "stdout",
     "output_type": "stream",
     "text": [
      "Stable matching found. Returning person : partner dictionary.\n"
     ]
    },
    {
     "data": {
      "text/plain": [
       "{'1': '3', '2': '4', '3': '1', '4': '2'}"
      ]
     },
     "execution_count": 15,
     "metadata": {},
     "output_type": "execute_result"
    }
   ],
   "source": [
    "stable_roommates(custom_3, debug=True)"
   ]
  },
  {
   "cell_type": "markdown",
   "metadata": {},
   "source": [
    "## old"
   ]
  },
  {
   "cell_type": "code",
   "execution_count": 16,
   "metadata": {
    "collapsed": true
   },
   "outputs": [],
   "source": [
    "class Person(object):\n",
    "    \"\"\"\n",
    "    Person object with preferences. \n",
    "    \n",
    "    Attributes:\n",
    "        name: name of person, referred to by number\n",
    "        preferences: ordered list of strings detailing pairing preferences. \n",
    "            Given n users in a pool, len(preferences) = n - 1 as each person ranks every other person in the pool.\n",
    "        preference_index: dict containing index of preference for fast lookup of ranking.\n",
    "    \"\"\"\n",
    "    def __init__(self, name, preferences):\n",
    "        \"\"\"\n",
    "        Returns a Person object with attributes initialized.\n",
    "        \n",
    "        Input:\n",
    "            preferences (list of strings): ordered list of strings detailed pairing preferences\n",
    "                ex w/4 users: [[]]\n",
    "        \"\"\"\n",
    "        self.name = str(name)\n",
    "        self.preferences = preferences + [name]\n",
    "        self.preference_index = {}\n",
    "        \n",
    "        # generate preference index\n",
    "        for i in xrange(len(preferences)): \n",
    "            self.preference_index[preferences[i]] = str(i)\n",
    "    \n",
    "    def leftmost(self): \n",
    "        \"\"\"\n",
    "        Gets next choice for person to propose to.\n",
    "        \"\"\"\n",
    "        return self.preferences[0]\n",
    "    \n",
    "    def rightmost(self): \n",
    "        \"\"\"\n",
    "        Gets next choice for person to propose to.\n",
    "        \"\"\"\n",
    "        return self.preferences[0]           \n",
    "    \n",
    "class ResearchPool(object):\n",
    "    \"\"\"\n",
    "    Pool of Persons to match over.\n",
    "    \n",
    "    Attributes:\n",
    "        persons: list of people in pool\n",
    "        person_index: dict containing name:Person mapping for fast lookup of people\n",
    "        proposal_set: set of proposals made\n",
    "    \"\"\"\n",
    "    def __init__(self, preference_matrix):\n",
    "        \"\"\"\n",
    "        Returns a ResearchPool object with attributes intitialized.\n",
    "\n",
    "        Input:\n",
    "            preference_matrix (matrix, list of lists): n-by-m matrix of n people with m = n - 1 preferences each.\n",
    "                preferences should be 1-indexed as each person will be 1-indexed.\n",
    "        \"\"\"\n",
    "        self.persons = [Person(x + 1, preference_matrix[x]) for x in xrange(len(preference_matrix))]\n",
    "        self.person_index = {}\n",
    "        self.proposal_set = set()\n",
    "\n",
    "        # check for an odd number of people\n",
    "        if (len(self.persons) % 2) != 0: \n",
    "            self.persons.append(Person(len(self.persons), [x for x in xrange(len(self.persons[0]))]))\n",
    "            \n",
    "        # create person_index\n",
    "        for i in self.persons: \n",
    "            self.person_index[i.name] = i\n",
    "            \n",
    "    def clear_proposal_set(self):\n",
    "        \"\"\"\n",
    "        Empties the proposal_set attribute.\n",
    "        \"\"\"\n",
    "        self.proposal_set = set()\n",
    "    \n",
    "    def get_person(self, person_name):\n",
    "        \"\"\"\n",
    "        Get and return a Person in the research pool, by name\n",
    "        \n",
    "        Input: \n",
    "            person_name (string): name of person.\n",
    "        \n",
    "        Return: \n",
    "            (Person): Person object with the name\n",
    "        \"\"\"\n",
    "        return self.persons[self.person_index[person_name]]\n",
    "\n",
    "    def __str__(self):\n",
    "        \"\"\"\n",
    "        Custom print for research pool in the format user | preference list.\n",
    "        \"\"\"\n",
    "        output = \"\"\n",
    "        for i in xrange(len(self.persons)):\n",
    "            preference_string = \" \".join([str(x) for x in self.persons[i].preferences])\n",
    "            output += \"{} | {}\".format(i + 1, preference_string)\n",
    "            output += \"\\n\"\n",
    "            \n",
    "        return output"
   ]
  },
  {
   "cell_type": "code",
   "execution_count": 17,
   "metadata": {},
   "outputs": [
    {
     "name": "stdout",
     "output_type": "stream",
     "text": [
      "1 | 4 6 2 5 3 1\n",
      "2 | 6 3 5 1 4 2\n",
      "3 | 4 5 1 6 2 3\n",
      "4 | 2 6 5 1 3 4\n",
      "5 | 4 2 3 6 1 5\n",
      "6 | 5 1 4 2 3 6\n",
      "\n"
     ]
    }
   ],
   "source": [
    "def create_pool(preference_matrix):\n",
    "    \"\"\"\n",
    "    Creates a ResearchPool that stable matching can be used upon. \n",
    "    \n",
    "    Input: \n",
    "        preference_matrix (matrix, list of lists): and n-by-m matrix of n people with m = n - 1 preferences each\n",
    "    \n",
    "    Return: \n",
    "        (ResearchPool): a ResearchPool object initialized with the preference_matrix\n",
    "    \"\"\"\n",
    "    # validate preference matrix size\n",
    "    n = len(preference_matrix)\n",
    "    m = n - 1\n",
    "\n",
    "    for i in preference_matrix:\n",
    "        if len(i) is not m: \n",
    "            raise TypeError(\"Preference matrix must be n-by-m with m = n - 1 for all n.\")\n",
    "    \n",
    "    return ResearchPool(preference_matrix)\n",
    "\n",
    "pool = create_pool([[4, 6, 2, 5, 3],\n",
    "                    [6, 3, 5, 1, 4],\n",
    "                    [4, 5, 1, 6, 2],\n",
    "                    [2, 6, 5, 1, 3],\n",
    "                    [4, 2, 3, 6, 1],\n",
    "                    [5, 1, 4, 2, 3]])\n",
    "\n",
    "print(pool)"
   ]
  }
 ],
 "metadata": {
  "kernelspec": {
   "display_name": "Python [conda env:py27]",
   "language": "python",
   "name": "conda-env-py27-py"
  },
  "language_info": {
   "codemirror_mode": {
    "name": "ipython",
    "version": 2
   },
   "file_extension": ".py",
   "mimetype": "text/x-python",
   "name": "python",
   "nbconvert_exporter": "python",
   "pygments_lexer": "ipython2",
   "version": "2.7.13"
  }
 },
 "nbformat": 4,
 "nbformat_minor": 2
}
