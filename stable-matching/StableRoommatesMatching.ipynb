{
 "cells": [
  {
   "cell_type": "markdown",
   "metadata": {},
   "source": [
    "# Stable Matching Pair Research\n",
    "Implementation of [Stable Roomates](http://www.dcs.gla.ac.uk/~pat/jchoco/roommates/papers/Comp_sdarticle.pdf) for [Pair Research](http://pairresearch.io/). "
   ]
  },
  {
   "cell_type": "markdown",
   "metadata": {},
   "source": [
    "input from pair research: [(0, 1, 93), (0, 2, -20), (0, 3, 2), (1, 2, -13), (1, 3, 10), (2, 3, 80)]\n",
    "- Single edge between two people with some weight for said edge"
   ]
  },
  {
   "cell_type": "markdown",
   "metadata": {},
   "source": [
    "## Implementation of Stable Roommates Matching "
   ]
  },
  {
   "cell_type": "code",
   "execution_count": 1,
   "metadata": {
    "collapsed": true
   },
   "outputs": [],
   "source": [
    "\"\"\"\n",
    "Stable Roommate Matching\n",
    "\n",
    "Implementation of Robert Irving's Stable Roommates Algorithm.\n",
    "http://www.dcs.gla.ac.uk/~pat/jchoco/roommates/papers/Comp_sdarticle.pdf\n",
    "\"\"\"\n",
    "\n",
    "from __future__ import absolute_import\n",
    "from __future__ import division\n",
    "from __future__ import print_function\n",
    "\n",
    "import random\n",
    "import unittest\n",
    "from copy import deepcopy\n",
    "\n",
    "\n",
    "def stable_roommates(preferences, debug=False):\n",
    "    \"\"\"\n",
    "    Runs complete algorithm and returns a stable matching, if exists.\n",
    "\n",
    "    Input:\n",
    "        preferences (matrix, list of lists of numbers): n-by-m preference matrix containing preferences for each person.\n",
    "            m = n - 1, so each person has rated all other people.\n",
    "            Each row is a 1-indexed ordered ranking of others in the pool.\n",
    "            Therefore max(preferences[person]) <= number people and min(preferences[person]) = 1.\n",
    "        debug (boolean): including print statements\n",
    "\n",
    "    Return:\n",
    "        (list): stable matching, if exists. Otherwise, None.\n",
    "            If a matching exists, -1 for a person indicates no partner.\n",
    "            ex: [2, 1, -1] (Person 0 matched with 2, 1 matched with 0, 2 not matched)\n",
    "    \"\"\"\n",
    "    # validate input\n",
    "    is_valid, person_added, valid_preferences = validate_input(preferences, debug)\n",
    "\n",
    "    if not is_valid:\n",
    "        if debug:\n",
    "            print('Invalid input. Must be n-by-m (where m = n - 1) list of lists of numbers.')\n",
    "        return None\n",
    "\n",
    "    # create a preference lookup table\n",
    "    # person_number : [list of preferences]\n",
    "    preferences_dict = {str(x + 1): [str(y) for y in valid_preferences[x]] for x in range(len(valid_preferences))}\n",
    "\n",
    "    # create a dict of dicts holding index of each person ranked\n",
    "    # person number : {person : rank_index }\n",
    "    ranks = {index: dict(zip(value, range(len(value)))) for (index, value) in preferences_dict.items()}\n",
    "\n",
    "    # phase 1: initial proposal\n",
    "    p1_holds = phase_1(preferences_dict, ranks)\n",
    "\n",
    "    # if anyone does not have a hold, stable matching is not possible\n",
    "    for hold in p1_holds:\n",
    "        if p1_holds[hold] is None:\n",
    "            if debug:\n",
    "                print('Stable matching is not possible. Failed at Phase 1: not everyone was proposed to.')\n",
    "            return None\n",
    "\n",
    "    # phase 1: reduction\n",
    "    p1_reduced_preferences = phase_1_reduce(preferences_dict, ranks, p1_holds)\n",
    "\n",
    "    # phase 1: stable match halting condition\n",
    "    # if p1_reduced_preferences has only one preference per person, matching should be stable (lemma 2)\n",
    "    p1_halt = True\n",
    "    for person in p1_reduced_preferences:\n",
    "        if len(p1_reduced_preferences[person]) > 1:\n",
    "            p1_halt = False\n",
    "            break\n",
    "\n",
    "    if p1_halt:\n",
    "        # verification before returning\n",
    "        if verify_matching(p1_holds):\n",
    "            if verify_stability(p1_holds, ranks):\n",
    "                if debug:\n",
    "                    print('Stable matching found. Returning person : partner dictionary.')\n",
    "\n",
    "                # check if person was added. if so, delete added person (n + 1) and set their match to -1\n",
    "                if person_added:\n",
    "                    person_str = str(len(p1_holds))\n",
    "                    person_added_match = p1_holds[person_str]\n",
    "\n",
    "                    del p1_holds[person_str]\n",
    "                    p1_holds[person_added_match] = '-1'\n",
    "\n",
    "                if debug:\n",
    "                    print(p1_holds)\n",
    "\n",
    "                return format_output(p1_holds)\n",
    "            else:\n",
    "                if debug:\n",
    "                    print('Stable matching is not possible. Failed at Verification: matching computed, but not stable.')\n",
    "                return None\n",
    "        else:\n",
    "            if debug:\n",
    "                print('Stable matching is not possible. Failed at Verification: matching computed, but not valid.')\n",
    "            return None\n",
    "\n",
    "    # phase 2: find an all-or-nothing cycle\n",
    "    cycle = find_all_or_nothing_cycle(p1_reduced_preferences, ranks, p1_holds)\n",
    "\n",
    "    # if cycle with more than size 3 does not exist, no stable matching exists\n",
    "    if cycle is None:\n",
    "        if debug:\n",
    "            print('Stable matching is not possible. Failed at Phase 2: could not find an all-or-nothing cycle.')\n",
    "        return None\n",
    "    elif cycle is not None and len(cycle) == 3:\n",
    "        if debug:\n",
    "            print('Stable matching is not possible. Failed at Phase 2: could not find an all-or-nothing cycle len > 3.')\n",
    "        return None\n",
    "\n",
    "    # phase 2: reduction\n",
    "    final_holds = phase_2_reduce(p1_reduced_preferences, ranks, cycle)\n",
    "\n",
    "    # check if holds are not empty\n",
    "    if final_holds is not None:\n",
    "        # verification\n",
    "        if verify_matching(final_holds):\n",
    "            if verify_stability(final_holds, ranks):\n",
    "                if debug:\n",
    "                    print('Stable matching found. Returning person : partner dictionary.')\n",
    "\n",
    "                # check if person was added. if so, delete added person (n + 1) and set their match to -1\n",
    "                if person_added:\n",
    "                    person_str = str(len(final_holds))\n",
    "                    person_added_match = final_holds[person_str]\n",
    "\n",
    "                    del final_holds[person_str]\n",
    "                    final_holds[person_added_match] = '-1'\n",
    "\n",
    "                if debug:\n",
    "                    print(final_holds)\n",
    "\n",
    "                return format_output(final_holds)\n",
    "            else:\n",
    "                if debug:\n",
    "                    print('Stable matching is not possible. Failed at Verification: matching computed, but not stable.')\n",
    "                return None\n",
    "        else:\n",
    "            if debug:\n",
    "                print('Stable matching is not possible. Failed at Verification: matching computed, but not valid.')\n",
    "            return None\n",
    "    else:\n",
    "        if debug:\n",
    "            print('Stable matching is not possible. Failed at Phase 2 reduction.')\n",
    "        return None\n",
    "\n",
    "\n",
    "def phase_1(preferences, ranks, curr_holds=None):\n",
    "    \"\"\"\n",
    "    Performs first phase of matching by doing round robin proposals until stopping condition (i) or (ii) is met:\n",
    "         (i) each person is holding a proposal\n",
    "        (ii) one person is rejected by everyone\n",
    "\n",
    "    Input:\n",
    "        preferences (dict of list of strings): dict of ordered preference lists {person : [ordered list]}\n",
    "        ranks (dict of dict of ranking index): dict of persons with dicts indicating rank of each other person\n",
    "        curr_holds (dict, optional): dict of persons with current holds\n",
    "\n",
    "    Return:\n",
    "        (dict): holds after condition (i) or (ii) is met.\n",
    "    \"\"\"\n",
    "    people = list(preferences.keys())\n",
    "\n",
    "    # placeholder for holds\n",
    "    holds = {person: None for person in people}\n",
    "\n",
    "    # during phase 1, no holds exist. initialize curr_holds to 0 (all people are > 0)\n",
    "    if curr_holds is None:\n",
    "        curr_holds = {person: 0 for person in people}\n",
    "\n",
    "    # randomize ordering of proposal\n",
    "    random.shuffle(people)\n",
    "\n",
    "    # track people who are already proposed to\n",
    "    proposed_set = set()\n",
    "\n",
    "    # begin proposing\n",
    "    for person in people:\n",
    "        proposer = person\n",
    "\n",
    "        # proposal step\n",
    "        while True:\n",
    "            # find proposer someone to propose to, in order of proposer's preference list\n",
    "            while curr_holds[proposer] < len(preferences[proposer]):\n",
    "                # find proposee given proposer's preferences\n",
    "                proposee = preferences[proposer][curr_holds[proposer]]\n",
    "                curr_holds[proposer] += 1\n",
    "\n",
    "                # find who proposee is holding, if any\n",
    "                proposee_hold = holds[proposee]\n",
    "\n",
    "                # stop searching if proposee doesn't hold anyone or ranks proposer higher than curr hold\n",
    "                if proposee_hold is None or ranks[proposee][proposer] < ranks[proposee][proposee_hold]:\n",
    "                    # proposee holds proposer's choice\n",
    "                    holds[proposee] = proposer\n",
    "                    break\n",
    "\n",
    "            # check if proposee has already been proposed to\n",
    "            if proposee not in proposed_set:\n",
    "                # successful proposal\n",
    "                proposed_set.add(proposee)\n",
    "                break\n",
    "\n",
    "            # if all preferences are exhausted and proposee does not have anyone, stop\n",
    "            if curr_holds[proposer] >= len(preferences[proposer]):\n",
    "                break\n",
    "\n",
    "            # if proposee is proposed to, reject proposee_hold and continue proposal with them\n",
    "            proposer = proposee_hold\n",
    "\n",
    "    # final holds from phase 1\n",
    "    return holds\n",
    "\n",
    "\n",
    "def phase_1_reduce(preferences, ranks, holds):\n",
    "    \"\"\"\n",
    "    Performs a reduction on preferences based on phase 1 proposals, and the following:\n",
    "        Preference list for y who holds proposal x can be reduced by deleting\n",
    "             (i) all those to whom y prefers x\n",
    "            (ii) all those who hold a proposal from a person they prefer to y\n",
    "\n",
    "    Input:\n",
    "        preferences (dict of list of strings): dict of ordered preference lists {person : [ordered list]}\n",
    "        ranks (dict of dict of ranking index): dict of persons with dicts indicating rank of each other person\n",
    "        holds (dict): dict of persons with current holds\n",
    "\n",
    "    Return:\n",
    "        (dict of list of strings): reduced preference list such that:\n",
    "            (iii) y is the first on x's list and last on y's\n",
    "             (iv) b appears on a's list iff a appears on b's\n",
    "    \"\"\"\n",
    "    # create output preferences\n",
    "    reduced_preferences = deepcopy(preferences)\n",
    "\n",
    "    # loop though each hold\n",
    "    for proposee in holds:\n",
    "        proposer = holds[proposee]\n",
    "\n",
    "        # loop though all of person's preferences\n",
    "        i = 0\n",
    "        while i < len(reduced_preferences[proposee]):\n",
    "            # fetch proposee's preferences\n",
    "            curr_proposee_preference = reduced_preferences[proposee][i]\n",
    "\n",
    "            # proposee should only hold preferences equal and higher to proposer (i)\n",
    "            if curr_proposee_preference == proposer:\n",
    "                reduced_preferences[proposee] = reduced_preferences[proposee][:(i + 1)]\n",
    "            # delete all people who hold a proposal from someone they prefer to the proposee (ii)\n",
    "            elif ranks[curr_proposee_preference][holds[curr_proposee_preference]] < \\\n",
    "                    ranks[curr_proposee_preference][proposee]:\n",
    "                reduced_preferences[proposee].pop(i)\n",
    "                continue\n",
    "\n",
    "            # continue to preference list\n",
    "            i += 1\n",
    "\n",
    "    return reduced_preferences\n",
    "\n",
    "\n",
    "def find_all_or_nothing_cycle(preferences, ranks, holds):\n",
    "    \"\"\"\n",
    "    Finds an all-or-nothing cycle in reduced preferences, if exists.\n",
    "\n",
    "    Input:\n",
    "        preferences (dict of list of strings): dict of ordered preference lists {person : [ordered list]}\n",
    "        ranks (dict of dict of ranking index): dict of persons with dicts indicating rank of each other person\n",
    "        holds (dict): dict of persons with current holds\n",
    "\n",
    "    Return:\n",
    "        (list): cycle of persons\n",
    "    \"\"\"\n",
    "    # start with two individuals, p and q\n",
    "    p = []\n",
    "    q = []\n",
    "\n",
    "    # find a person with > 1 preference left\n",
    "    curr = None\n",
    "    for person in preferences:\n",
    "        if len(preferences[person]) > 1:\n",
    "            curr = person\n",
    "            break\n",
    "\n",
    "    # if no person can be found, no cycle exists\n",
    "    if curr is None:\n",
    "        return None\n",
    "\n",
    "    # create cycle\n",
    "    while curr not in p:\n",
    "        # q_i = second person in p_i's list\n",
    "        q += [preferences[curr][1]]\n",
    "\n",
    "        # p_{i + 1} = q_i's last person\n",
    "        p += [curr]\n",
    "        curr = preferences[q[-1]][-1]\n",
    "\n",
    "    cycle = p[p.index(curr):]\n",
    "\n",
    "    return cycle\n",
    "\n",
    "\n",
    "def phase_2_reduce(preferences, ranks, cycle):\n",
    "    \"\"\"\n",
    "    Performs a reduction on found all-or-nothing cycles.\n",
    "\n",
    "    Input:\n",
    "        preferences (dict of list of strings): dict of ordered preference lists {person : [ordered list]}\n",
    "        ranks (dict of dict of ranking index): dict of persons with dicts indicating rank of each other person\n",
    "        cycle (list): all-or-nothing cycle\n",
    "\n",
    "    Return:\n",
    "        (dict): holds after sequential reductions, or None if no matching can be found.\n",
    "    \"\"\"\n",
    "    # continue while a cycle exists\n",
    "    curr_cycle = deepcopy(cycle)\n",
    "    curr_holds = None\n",
    "    p2_preferences = deepcopy(preferences)\n",
    "\n",
    "    while curr_cycle is not None:\n",
    "        curr_preferences = {}\n",
    "\n",
    "        for person in preferences:\n",
    "            if person in curr_cycle:\n",
    "                curr_preferences[person] = 1\n",
    "            else:\n",
    "                curr_preferences[person] = 0\n",
    "\n",
    "        curr_holds = phase_1(p2_preferences, ranks, curr_preferences)\n",
    "        p2_preferences = phase_1_reduce(p2_preferences, ranks, curr_holds)\n",
    "\n",
    "        curr_cycle = find_all_or_nothing_cycle(p2_preferences, ranks, curr_holds)\n",
    "\n",
    "    return curr_holds\n",
    "\n",
    "\n",
    "def validate_input(preference_matrix, debug=False):\n",
    "    \"\"\"\n",
    "    Makes sure a preference matrix is n-by-m and m = n - 1.\n",
    "        If each isn't full, fill the list with the remaining people.\n",
    "        If n is odd, add in a n + 1 person to allow matching to run.\n",
    "\n",
    "\n",
    "    Input:\n",
    "        preferences (matrix, list of lists of numbers): n-by-m preference matrix containing preferences for each person.\n",
    "            m = n - 1, so each person has rated all other people.\n",
    "            Each row is a 1-indexed ordered ranking of others in the pool.\n",
    "            Therefore max(preferences[person]) <= number people and min(preferences[person]) = 1.\n",
    "\n",
    "    Return:\n",
    "        (boolean): if matrix is valid\n",
    "        (boolean): if n + 1 person was added\n",
    "        (matrix, list of lists numbers): filled and validated preference list\n",
    "    \"\"\"\n",
    "    is_valid = False\n",
    "    person_added = False\n",
    "    output_matrix = deepcopy(preference_matrix)\n",
    "\n",
    "    n = len(output_matrix)\n",
    "    m = n - 1\n",
    "\n",
    "    matrix_iterator = range(n)\n",
    "\n",
    "    # validate list of lists of numbers\n",
    "    if type(output_matrix) is not list:\n",
    "        if debug:\n",
    "            print('Input validation failed: preference_matrix is not a list.')\n",
    "        return False, person_added, None\n",
    "\n",
    "    # validate size\n",
    "    if n <= 1:  # empty matrix or only 1 person (no point in matching)\n",
    "        if debug:\n",
    "            print('Input validation failed: preference_matrix must have size > 1')\n",
    "        return False, person_added, None\n",
    "\n",
    "    # validate content of matrix\n",
    "    for i in matrix_iterator:\n",
    "        sublist = output_matrix[i]\n",
    "\n",
    "        #  each sublist is a list\n",
    "        if type(sublist) is not list:\n",
    "            if debug:\n",
    "                print('Input validation failed: each list in preference_list should be a list.')\n",
    "            return False, person_added, None\n",
    "\n",
    "        # each preference list can only be of length m\n",
    "        if len(sublist) > m:\n",
    "            if debug:\n",
    "                print('Input validation failed: each list in preference_list cannot have length greater than m.')\n",
    "            return False, person_added, None\n",
    "\n",
    "        # each value is an int\n",
    "        for j in sublist:\n",
    "            if type(j) is not int:\n",
    "                if debug:\n",
    "                    print('Input validation failed: all values should be integers')\n",
    "                return False, person_added, None\n",
    "\n",
    "            # number should be between 1 and n and should be the person index\n",
    "            if j < 1 or j > n or j == (i + 1):\n",
    "                if debug:\n",
    "                    print('Input validation failed: each value in each row should be between \\\n",
    "                          1 and n (number of people) and cannot be the person themselves')\n",
    "                return False, person_added, None\n",
    "\n",
    "    if debug:\n",
    "        print('Input validation passed.')\n",
    "    is_valid = True\n",
    "\n",
    "    # add n + 1 person if n is odd\n",
    "    if n % 2 != 0:\n",
    "        person_added = True\n",
    "        output_matrix += [range(1, n + 1)]\n",
    "\n",
    "    # fill any rows that are not of length m\n",
    "    full_set = set(range(1, n + 1))\n",
    "    for i in matrix_iterator:\n",
    "        if len(output_matrix[i]) != m:\n",
    "            to_add = full_set - set(output_matrix[i]) - {i + 1}\n",
    "            output_matrix[i] += list(to_add)\n",
    "\n",
    "        if person_added:\n",
    "            output_matrix[i] += [n + 1]\n",
    "\n",
    "    # returns is_valid (list of list of numbers), person_added (if n is odd), output_matrix (filled preference_matrix)\n",
    "    return is_valid, person_added, output_matrix\n",
    "\n",
    "\n",
    "def verify_matching(matching):\n",
    "    \"\"\"\n",
    "    Checks if a matching is valid.\n",
    "        Valid matchings have all people matched to one and only one person.\n",
    "\n",
    "    Input:\n",
    "        matching (dict): dict containing person:matching pairs\n",
    "\n",
    "    Return:\n",
    "        (boolean)): matching is valid\n",
    "    \"\"\"\n",
    "    # validate matching\n",
    "    person_set = {person for person in matching.keys()}\n",
    "    matching_set = {match for match in matching.values()}\n",
    "\n",
    "    # equal cardinality and content\n",
    "    if person_set != matching_set:\n",
    "        return False\n",
    "\n",
    "    # check for a:b, then b:a\n",
    "    for person in matching:\n",
    "        if person != matching[matching[person]]:\n",
    "            return False\n",
    "\n",
    "    # matching is valid\n",
    "    return True\n",
    "\n",
    "\n",
    "def verify_stability(matching, ranks):\n",
    "    \"\"\"\n",
    "    Checks if a valid matching (all people matched to one and only one person) is stable.\n",
    "        Stable iff no two unmatched members both prefer each other to their current partners in the matching.\n",
    "\n",
    "    Input:\n",
    "        matching (dict): dict containing person:matching pairs\n",
    "        ranks (dict of dict of ranking index): dict of persons with dicts indicating rank of each other person\n",
    "\n",
    "    Output:\n",
    "        (boolean): matching is stable\n",
    "    \"\"\"\n",
    "    for x in matching:\n",
    "        for y in matching:\n",
    "            # ignore if x, y are the same or x, y are matched\n",
    "            if x == y or y == matching[x]:\n",
    "                continue\n",
    "\n",
    "            # get partner under matching for x, y and corresponding ranks of matched partners\n",
    "            x_partner = matching[x]\n",
    "            y_partner = matching[y]\n",
    "\n",
    "            x_partner_rank = ranks[x][x_partner]\n",
    "            y_partner_rank = ranks[y][y_partner]\n",
    "\n",
    "            # get ranking of x -> y, y -> x\n",
    "            x_y_rank = ranks[x][y]\n",
    "            y_x_rank = ranks[y][x]\n",
    "\n",
    "            # if x prefers y to current partner AND y prefers x to current partner, unstable\n",
    "            # prefer = lower ranking index since ranking is highest -> lowest preference\n",
    "            if x_y_rank < x_partner_rank and y_x_rank < y_partner_rank:\n",
    "                return False\n",
    "\n",
    "    return True\n",
    "\n",
    "\n",
    "def format_output(matching):\n",
    "    \"\"\"\n",
    "    Formats holds into output that matches maximum weighted matching output.\n",
    "        ex: [2, 1, -1] (Person 0 matched with 2, 1 matched with 0, 2 not matched)\n",
    "\n",
    "    Input:\n",
    "        matching (dict): dict of persons who they are matched to (-1 if unmatched)\n",
    "\n",
    "    Return:\n",
    "        (list): stable matching, if exists. Otherwise, None.\n",
    "            If a matching exists, -1 for a person indicates no partner.\n",
    "    \"\"\"\n",
    "    n = len(matching)\n",
    "    output = [0 for i in range(n)]\n",
    "\n",
    "    # convert dict to output list\n",
    "    for (key, value) in matching.items():\n",
    "        int_key = int(key) - 1\n",
    "        int_value = int(value)\n",
    "\n",
    "        output[int_key] = int_value\n",
    "\n",
    "    return output"
   ]
  },
  {
   "cell_type": "markdown",
   "metadata": {},
   "source": [
    "## Test Cases\n",
    "A variety of test cases from (1) Irving's paper, (2) Wikipedia, (3) external implementations, and (4) any other custom cases."
   ]
  },
  {
   "cell_type": "markdown",
   "metadata": {},
   "source": [
    "### Test Case from Irving's Paper"
   ]
  },
  {
   "cell_type": "code",
   "execution_count": 2,
   "metadata": {
    "collapsed": true
   },
   "outputs": [],
   "source": [
    "paper_matching_6 = [\n",
    "    [4, 6, 2, 5, 3],\n",
    "    [6, 3, 5, 1, 4],\n",
    "    [4, 5, 1, 6, 2],\n",
    "    [2, 6, 5, 1, 3],\n",
    "    [4, 2, 3, 6, 1],\n",
    "    [5, 1, 4, 2, 3]\n",
    "]\n",
    "\n",
    "paper_matching_8 = [\n",
    "    [2, 5, 4, 6, 7, 8, 3],\n",
    "    [3, 6, 1, 7, 8, 5, 4],\n",
    "    [4, 7, 2, 8, 5, 6, 1],\n",
    "    [1, 8, 3, 5, 6, 7, 2],\n",
    "    [6, 1, 8, 2, 3, 4, 7],\n",
    "    [7, 2, 5, 3, 4, 1, 8],\n",
    "    [8, 3, 6, 4, 1, 2, 5],\n",
    "    [5, 4, 7, 1, 2, 3, 6]\n",
    "]\n",
    "\n",
    "paper_no_matching_4 = [\n",
    "    [2, 3, 4],\n",
    "    [3, 1, 4],\n",
    "    [1, 2, 4],\n",
    "    [1, 2, 3]\n",
    "]\n",
    "\n",
    "paper_no_matching_6 = [\n",
    "    [2, 6, 4, 3, 5],\n",
    "    [3, 5, 1, 6, 4],\n",
    "    [1, 6, 2, 5, 4],\n",
    "    [5, 2, 3, 6, 1],\n",
    "    [6, 1, 3, 4, 2],\n",
    "    [4, 2, 5, 1, 3]\n",
    "]"
   ]
  },
  {
   "cell_type": "code",
   "execution_count": 3,
   "metadata": {},
   "outputs": [
    {
     "name": "stdout",
     "output_type": "stream",
     "text": [
      "Input validation passed.\n",
      "Stable matching found. Returning person : partner dictionary.\n",
      "{'1': '6', '3': '2', '2': '3', '5': '4', '4': '5', '6': '1'}\n"
     ]
    },
    {
     "data": {
      "text/plain": [
       "[6, 3, 2, 5, 4, 1]"
      ]
     },
     "execution_count": 3,
     "metadata": {},
     "output_type": "execute_result"
    }
   ],
   "source": [
    "stable_roommates(paper_matching_6, debug=True)"
   ]
  },
  {
   "cell_type": "code",
   "execution_count": 4,
   "metadata": {},
   "outputs": [
    {
     "name": "stdout",
     "output_type": "stream",
     "text": [
      "Input validation passed.\n",
      "Stable matching found. Returning person : partner dictionary.\n",
      "{'1': '4', '3': '2', '2': '3', '5': '6', '4': '1', '7': '8', '6': '5', '8': '7'}\n"
     ]
    },
    {
     "data": {
      "text/plain": [
       "[4, 3, 2, 1, 6, 5, 8, 7]"
      ]
     },
     "execution_count": 4,
     "metadata": {},
     "output_type": "execute_result"
    }
   ],
   "source": [
    "stable_roommates(paper_matching_8, debug=True)"
   ]
  },
  {
   "cell_type": "code",
   "execution_count": 5,
   "metadata": {},
   "outputs": [
    {
     "name": "stdout",
     "output_type": "stream",
     "text": [
      "Input validation passed.\n",
      "Stable matching is not possible. Failed at Phase 1: not everyone was proposed to.\n"
     ]
    }
   ],
   "source": [
    "stable_roommates(paper_no_matching_4, debug=True)"
   ]
  },
  {
   "cell_type": "code",
   "execution_count": 6,
   "metadata": {},
   "outputs": [
    {
     "name": "stdout",
     "output_type": "stream",
     "text": [
      "Input validation passed.\n",
      "Stable matching is not possible. Failed at Phase 2: could not find an all-or-nothing cycle len > 3.\n"
     ]
    }
   ],
   "source": [
    "stable_roommates(paper_no_matching_6, debug=True)"
   ]
  },
  {
   "cell_type": "markdown",
   "metadata": {},
   "source": [
    "### Test Cases from Wikipedia Article (https://en.wikipedia.org/wiki/Stable_roommates_problem#Algorithm)"
   ]
  },
  {
   "cell_type": "code",
   "execution_count": 7,
   "metadata": {
    "collapsed": true
   },
   "outputs": [],
   "source": [
    "wiki_matching_6 = [\n",
    "    [3, 4, 2, 6, 5],\n",
    "    [6, 5, 4, 1, 3],\n",
    "    [2, 4, 5, 1, 6],\n",
    "    [5, 2, 3, 6, 1],\n",
    "    [3, 1, 2, 4, 6],\n",
    "    [5, 1, 3, 4, 2]\n",
    "]"
   ]
  },
  {
   "cell_type": "code",
   "execution_count": 8,
   "metadata": {},
   "outputs": [
    {
     "name": "stdout",
     "output_type": "stream",
     "text": [
      "Input validation passed.\n",
      "Stable matching found. Returning person : partner dictionary.\n",
      "{'1': '6', '3': '5', '2': '4', '5': '3', '4': '2', '6': '1'}\n"
     ]
    },
    {
     "data": {
      "text/plain": [
       "[6, 4, 5, 2, 3, 1]"
      ]
     },
     "execution_count": 8,
     "metadata": {},
     "output_type": "execute_result"
    }
   ],
   "source": [
    "stable_roommates(wiki_matching_6, debug=True)"
   ]
  },
  {
   "cell_type": "markdown",
   "metadata": {},
   "source": [
    "### Test Cases from External Implementation (http://www.dcs.gla.ac.uk/~pat/roommates/distribution/data/) "
   ]
  },
  {
   "cell_type": "code",
   "execution_count": 9,
   "metadata": {
    "collapsed": true
   },
   "outputs": [],
   "source": [
    "external_matching_8 = [\n",
    "    [2, 5, 4, 6, 7, 8, 3],\n",
    "    [3, 6, 1, 7, 8, 5, 4],\n",
    "    [4, 7, 2, 8, 5, 6, 1],\n",
    "    [1, 8, 3, 5, 6, 7, 2],\n",
    "    [6, 1, 8, 2, 3, 4, 7],\n",
    "    [7, 2, 5, 3, 4, 1, 8],\n",
    "    [8, 3, 6, 4, 1, 2, 5],\n",
    "    [5, 4, 7, 1, 2, 3, 6]\n",
    "]\n",
    "\n",
    "external_matching_10 = [\n",
    "    [8, 2, 9, 3, 6, 4, 5, 7, 10],\n",
    "    [4, 3, 8, 9, 5, 1, 10, 6, 7],\n",
    "    [5, 6, 8, 2, 1, 7, 10, 4, 9],\n",
    "    [10, 7, 9, 3, 1, 6, 2, 5, 8],\n",
    "    [7, 4, 10, 8, 2, 6, 3, 1, 9],\n",
    "    [2, 8, 7, 3, 4, 10, 1, 5, 9],\n",
    "    [2, 1, 8, 3, 5, 10, 4, 6, 9],\n",
    "    [10, 4, 2, 5, 6, 7, 1, 3, 9],\n",
    "    [6, 7, 2, 5, 10, 3, 4, 8, 1],\n",
    "    [3, 1, 6, 5, 2, 9, 8, 4, 7]\n",
    "]\n",
    "\n",
    "external_matching_20 = [\n",
    "    [13, 12, 20, 17, 11, 6, 8, 2, 3, 14, 4, 16, 5, 10, 18, 19, 9, 15, 7],\n",
    "    [13, 6, 8, 17, 18, 19, 1, 11, 7, 4, 15, 16, 5, 9, 3, 20, 12, 10, 14],\n",
    "    [6, 16, 4, 9, 14, 13, 17, 19, 8, 2, 1, 12, 20, 5, 18, 15, 7, 11, 10],\n",
    "    [11, 7, 8, 2, 17, 3, 15, 6, 19, 10, 9, 5, 1, 16, 13, 20, 18, 14, 12],\n",
    "    [8, 17, 14, 16, 4, 13, 15, 6, 19, 9, 12, 7, 2, 3, 11, 18, 20, 10, 1],\n",
    "    [8, 13, 10, 14, 18, 15, 2, 7, 4, 16, 19, 5, 9, 17, 20, 3, 11, 12, 1],\n",
    "    [13, 1, 4, 9, 19, 18, 11, 14, 10, 2, 17, 6, 15, 16, 5, 3, 12, 8, 20],\n",
    "    [1, 6, 20, 7, 5, 15, 19, 4, 12, 3, 17, 9, 10, 14, 16, 2, 18, 11, 13],\n",
    "    [17, 13, 3, 5, 7, 4, 12, 2, 18, 20, 15, 8, 10, 1, 6, 11, 19, 14, 16],\n",
    "    [9, 4, 16, 14, 18, 17, 15, 11, 20, 13, 3, 12, 2, 1, 19, 7, 5, 8, 6],\n",
    "    [6, 15, 4, 1, 18, 14, 5, 3, 9, 2, 17, 13, 8, 7, 12, 20, 19, 10, 16],\n",
    "    [5, 18, 7, 16, 6, 20, 19, 14, 9, 17, 3, 1, 8, 10, 11, 13, 2, 15, 4],\n",
    "    [3, 10, 7, 18, 14, 15, 1, 6, 12, 4, 8, 19, 16, 17, 5, 20, 9, 11, 2],\n",
    "    [2, 5, 10, 13, 19, 17, 6, 3, 18, 7, 20, 9, 1, 4, 16, 12, 15, 8, 11],\n",
    "    [12, 13, 5, 11, 2, 16, 18, 14, 1, 6, 17, 8, 19, 4, 10, 7, 20, 3, 9],\n",
    "    [1, 7, 6, 5, 14, 18, 12, 17, 20, 11, 15, 10, 2, 13, 3, 8, 19, 9, 4],\n",
    "    [5, 8, 15, 9, 7, 18, 11, 10, 19, 2, 1, 12, 3, 14, 20, 13, 6, 16, 4],\n",
    "    [14, 3, 8, 10, 13, 5, 9, 15, 12, 1, 17, 6, 16, 11, 2, 7, 4, 19, 20],\n",
    "    [9, 15, 20, 12, 18, 1, 11, 5, 3, 2, 13, 14, 10, 7, 6, 16, 8, 17, 4],\n",
    "    [5, 6, 18, 19, 16, 7, 4, 9, 2, 17, 8, 15, 1, 12, 13, 10, 14, 3, 11]\n",
    "]\n",
    "\n",
    "# matching exists if algorithm leaves 7 unmatched\n",
    "external_matching_7 = [\n",
    "    [3, 4, 2, 6, 5, 7], \n",
    "    [6, 5, 4, 1, 3, 7], \n",
    "    [2, 4, 5, 1, 6, 7], \n",
    "    [5, 2, 3, 6, 1, 7],\n",
    "    [3, 1, 2, 4, 6, 7],\n",
    "    [5, 1, 3, 4, 2, 7],\n",
    "    [1, 2, 3, 4, 5, 6]\n",
    "]"
   ]
  },
  {
   "cell_type": "code",
   "execution_count": 10,
   "metadata": {},
   "outputs": [
    {
     "name": "stdout",
     "output_type": "stream",
     "text": [
      "Input validation passed.\n",
      "Stable matching found. Returning person : partner dictionary.\n",
      "{'1': '4', '3': '2', '2': '3', '5': '6', '4': '1', '7': '8', '6': '5', '8': '7'}\n"
     ]
    },
    {
     "data": {
      "text/plain": [
       "[4, 3, 2, 1, 6, 5, 8, 7]"
      ]
     },
     "execution_count": 10,
     "metadata": {},
     "output_type": "execute_result"
    }
   ],
   "source": [
    "stable_roommates(external_matching_8, debug=True)"
   ]
  },
  {
   "cell_type": "code",
   "execution_count": 11,
   "metadata": {},
   "outputs": [
    {
     "name": "stdout",
     "output_type": "stream",
     "text": [
      "Input validation passed.\n",
      "Stable matching found. Returning person : partner dictionary.\n",
      "{'10': '8', '1': '4', '3': '6', '2': '9', '5': '7', '4': '1', '7': '5', '6': '3', '9': '2', '8': '10'}\n"
     ]
    },
    {
     "data": {
      "text/plain": [
       "[4, 9, 6, 1, 7, 3, 5, 10, 2, 8]"
      ]
     },
     "execution_count": 11,
     "metadata": {},
     "output_type": "execute_result"
    }
   ],
   "source": [
    "stable_roommates(external_matching_10, debug=True)"
   ]
  },
  {
   "cell_type": "code",
   "execution_count": 12,
   "metadata": {},
   "outputs": [
    {
     "name": "stdout",
     "output_type": "stream",
     "text": [
      "Input validation passed.\n",
      "Stable matching found. Returning person : partner dictionary.\n",
      "{'11': '15', '10': '14', '13': '7', '12': '16', '15': '11', '14': '10', '17': '5', '16': '12', '19': '20', '18': '9', '1': '8', '3': '4', '2': '6', '5': '17', '4': '3', '7': '13', '6': '2', '9': '18', '20': '19', '8': '1'}\n"
     ]
    },
    {
     "data": {
      "text/plain": [
       "[8, 6, 4, 3, 17, 2, 13, 1, 18, 14, 15, 16, 7, 10, 11, 12, 5, 9, 20, 19]"
      ]
     },
     "execution_count": 12,
     "metadata": {},
     "output_type": "execute_result"
    }
   ],
   "source": [
    "stable_roommates(external_matching_20, debug=True)"
   ]
  },
  {
   "cell_type": "code",
   "execution_count": 13,
   "metadata": {},
   "outputs": [
    {
     "name": "stdout",
     "output_type": "stream",
     "text": [
      "Input validation passed.\n",
      "Stable matching found. Returning person : partner dictionary.\n",
      "{'1': '6', '3': '5', '2': '4', '5': '3', '4': '2', '7': '-1', '6': '1'}\n"
     ]
    },
    {
     "data": {
      "text/plain": [
       "[6, 4, 5, 2, 3, 1, -1]"
      ]
     },
     "execution_count": 13,
     "metadata": {},
     "output_type": "execute_result"
    }
   ],
   "source": [
    "stable_roommates(external_matching_7, debug=True)"
   ]
  },
  {
   "cell_type": "markdown",
   "metadata": {},
   "source": [
    "### Custom Test Cases"
   ]
  },
  {
   "cell_type": "code",
   "execution_count": 14,
   "metadata": {
    "collapsed": true
   },
   "outputs": [],
   "source": [
    "# empty matrix\n",
    "custom_no_matching_empty = []\n",
    "\n",
    "# one person (no matching should be possible)\n",
    "custom_no_matching_1 = [[]]\n",
    "\n",
    "# two people\n",
    "custom_matching_2 = [[2], [1]]\n",
    "\n",
    "# three people (odd: should add person and find a matching)\n",
    "custom_matching_3 = [\n",
    "    [3, 2],\n",
    "    [3, 1],\n",
    "    [1, 2]\n",
    "]"
   ]
  },
  {
   "cell_type": "code",
   "execution_count": 15,
   "metadata": {},
   "outputs": [
    {
     "name": "stdout",
     "output_type": "stream",
     "text": [
      "Input validation failed: preference_matrix must have size > 1\n",
      "Invalid input. Must be n-by-m (where m = n - 1) list of lists of numbers.\n"
     ]
    }
   ],
   "source": [
    "stable_roommates(custom_no_matching_empty, debug=True)"
   ]
  },
  {
   "cell_type": "code",
   "execution_count": 16,
   "metadata": {},
   "outputs": [
    {
     "name": "stdout",
     "output_type": "stream",
     "text": [
      "Input validation failed: preference_matrix must have size > 1\n",
      "Invalid input. Must be n-by-m (where m = n - 1) list of lists of numbers.\n"
     ]
    }
   ],
   "source": [
    "stable_roommates(custom_no_matching_1, debug=True)"
   ]
  },
  {
   "cell_type": "code",
   "execution_count": 17,
   "metadata": {},
   "outputs": [
    {
     "name": "stdout",
     "output_type": "stream",
     "text": [
      "Input validation passed.\n",
      "Stable matching found. Returning person : partner dictionary.\n",
      "{'1': '2', '2': '1'}\n"
     ]
    },
    {
     "data": {
      "text/plain": [
       "[2, 1]"
      ]
     },
     "execution_count": 17,
     "metadata": {},
     "output_type": "execute_result"
    }
   ],
   "source": [
    "stable_roommates(custom_matching_2, debug=True)"
   ]
  },
  {
   "cell_type": "code",
   "execution_count": 18,
   "metadata": {},
   "outputs": [
    {
     "name": "stdout",
     "output_type": "stream",
     "text": [
      "Input validation passed.\n",
      "Stable matching found. Returning person : partner dictionary.\n",
      "{'1': '3', '3': '1', '2': '-1'}\n"
     ]
    },
    {
     "data": {
      "text/plain": [
       "[3, -1, 1]"
      ]
     },
     "execution_count": 18,
     "metadata": {},
     "output_type": "execute_result"
    }
   ],
   "source": [
    "stable_roommates(custom_matching_3, debug=True)"
   ]
  },
  {
   "cell_type": "code",
   "execution_count": null,
   "metadata": {
    "collapsed": true
   },
   "outputs": [],
   "source": []
  }
 ],
 "metadata": {
  "kernelspec": {
   "display_name": "Python [conda env:py27]",
   "language": "python",
   "name": "conda-env-py27-py"
  },
  "language_info": {
   "codemirror_mode": {
    "name": "ipython",
    "version": 2
   },
   "file_extension": ".py",
   "mimetype": "text/x-python",
   "name": "python",
   "nbconvert_exporter": "python",
   "pygments_lexer": "ipython2",
   "version": "2.7.13"
  }
 },
 "nbformat": 4,
 "nbformat_minor": 2
}
